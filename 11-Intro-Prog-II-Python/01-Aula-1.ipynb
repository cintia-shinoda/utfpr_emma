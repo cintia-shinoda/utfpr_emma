{
 "cells": [
  {
   "cell_type": "markdown",
   "metadata": {},
   "source": [
    "[1ª Aula Síncrona](https://drive.google.com/file/d/1yXIpJYqCw3DsSm7LGhZMy3qynfXp_Ely/view?usp=sharing)"
   ]
  },
  {
   "cell_type": "markdown",
   "metadata": {},
   "source": [
    "# 1. Introdução à Programação em Python"
   ]
  },
  {
   "cell_type": "markdown",
   "metadata": {},
   "source": [
    "1.1 Níveis de Linguagem de Programação\n",
    "- Alto Nível\n",
    "- Baixo Nível\n",
    "\n",
    "1.2 Compiladas ou Interpretadas\n",
    "- esta classificação não é absoluta\n",
    "- exemplos: Java, Maple\n",
    "\n",
    "1.2.1: Compiladas: \n",
    "- as instruções do código são transformadas em um arquivo executável\n",
    "- o executável deve ser criado especificamente para o sistema operacional onde se deseja executar o programa\n",
    "- exemplos: C/C++, Basic, Pascal, Fortran\n",
    "\n",
    "1.2.2: Interpretadas:\n",
    "- o código é interpretado e executado linha a linha\n",
    "- é necessário que o interpretador esteja instalado no computador\n",
    "- exemplos: Matlab, Scilab, Python, Ruby\n",
    "\n",
    "1.3 IDE:\n",
    "- *Integrated Development Environment*\n",
    "- exemplos: Idle, PyCharm, Spyder, Anaconda, VSCode, Jupyter Notebook, Google Colab\n",
    "- uma das funcionalidades que as IDEs oferecem é a depuração (*debugging*)\n",
    "- depuração é o processo de encontrar e corrigir erros no código\n",
    "  - Tipos de erros:\n",
    "    - Erros de Sintaxe: \n",
    "      - regra da linguagem de programação\n",
    "      - frequentemente é erro tipográfico\n",
    "      - são detectados antes da execução\n",
    "    - Erros de tempo de execução: \n",
    "      - surgem apenas durante a execução do programa (e geram mensagens específicas)\n",
    "      - exemplo: divisão por zero\n",
    "    - Erros de semântica: \n",
    "      - quando não se realiza exatamente o que se pretendia\n",
    "      - não são identificados pelo interpretador\n",
    "\n",
    "1.4 Etapas da Execução de um Programa:\n",
    "- Entrada de argumentos (dados)\n",
    "- Operação\n",
    "- Execuções condicionais\n",
    "- Execuções repetidas\n",
    "- Apresentação do resultado da execução\n",
    "\n",
    "1.5 Um pouco sobre Python\n",
    "- linguagem de alto nível\n",
    "- código aberto\n",
    "- tipagem dinâmica\n",
    "- permite integração com outras linguagens de programação como C e Fortran\n",
    "- criada por Guido van Rossum\n",
    "\n",
    "1.6 Processo de desenvolvimento de um programa\n",
    "Modelo de Cascata\n",
    "- uma abordagem de desenvolvimento de software\n",
    "- não é necessariamente linear\n",
    "- etapas:\n",
    "  - pedido do cliente\n",
    "  - análise: entrada e saídas do programa\n",
    "  - projeto: determinação das tarefas e divisão de tarefas\n",
    "  - implementação: codificação\n",
    "  - integração\n",
    "  - manutenção"
   ]
  },
  {
   "cell_type": "code",
   "execution_count": null,
   "metadata": {},
   "outputs": [],
   "source": []
  },
  {
   "cell_type": "markdown",
   "metadata": {},
   "source": [
    "# 2. Comandos Básicos"
   ]
  },
  {
   "cell_type": "markdown",
   "metadata": {},
   "source": [
    "## 2.1 Entrada e Saída de Informações"
   ]
  },
  {
   "cell_type": "code",
   "execution_count": 1,
   "metadata": {},
   "outputs": [
    {
     "name": "stdout",
     "output_type": "stream",
     "text": [
      "Hello, World!\n"
     ]
    }
   ],
   "source": [
    "print(\"Hello, World!\")"
   ]
  },
  {
   "cell_type": "code",
   "execution_count": 2,
   "metadata": {},
   "outputs": [],
   "source": [
    "# Comentário"
   ]
  },
  {
   "cell_type": "code",
   "execution_count": 4,
   "metadata": {},
   "outputs": [
    {
     "name": "stdout",
     "output_type": "stream",
     "text": [
      "Olá,  Cintia !\n"
     ]
    }
   ],
   "source": [
    "n = input('Digite seu nome: ')\n",
    "print('Olá, ',n,\"!\")"
   ]
  },
  {
   "cell_type": "code",
   "execution_count": 5,
   "metadata": {},
   "outputs": [
    {
     "name": "stdout",
     "output_type": "stream",
     "text": [
      "A soma entre os valores é  12\n",
      "A soma entre os valores é  12\n"
     ]
    }
   ],
   "source": [
    "a = 5\n",
    "b = 7\n",
    "print('A soma entre os valores é ', a + b)\n",
    "\n",
    "soma = a + b\n",
    "print('A soma entre os valores é ',soma)"
   ]
  },
  {
   "cell_type": "markdown",
   "metadata": {},
   "source": [
    "não é possível utilizar espaços ou caracteres especiais: $, #, @,..."
   ]
  },
  {
   "cell_type": "markdown",
   "metadata": {},
   "source": [
    "## 2.2 Operações Aritméticas"
   ]
  },
  {
   "cell_type": "markdown",
   "metadata": {},
   "source": [
    "- Soma (+);\n",
    "- Diferença (-);\n",
    "- Multiplicação (*);\n",
    "- Divisão (/);\n",
    "- Divisão inteira (//);\n",
    "- Resto da divisão inteira (%);\n",
    "- Potência (**);\n",
    "- Positivo (+);\n",
    "- Negativo (-)\n",
    "\n",
    "\n",
    "### precedência das operações:\n",
    "- Parenteses → ()\n",
    "- Exponenciação → **\n",
    "- Multiplicação, divisão e resto da divisão → *, /, // %\n",
    "- Soma e subtração → +, -\n",
    "\n",
    "### funções para transformação de um tipo de variável em outro:\n",
    "- float() - conversão para número real\n",
    "- int() - conversão para número inteiro\n",
    "- bool() - conversão para booleano\n",
    "- str() - conversão para string"
   ]
  },
  {
   "cell_type": "code",
   "execution_count": 6,
   "metadata": {},
   "outputs": [
    {
     "name": "stdout",
     "output_type": "stream",
     "text": [
      "Programa para o cálculo da área de um círculo\n",
      "Um círculo de raio 6.0 tem área 113.09733552923255.\n"
     ]
    }
   ],
   "source": [
    "# Cálculo da área de um círculo\n",
    "\n",
    "from math import pi\n",
    "\n",
    "print(\"Programa para o cálculo da área de um círculo\")\n",
    "R = float(input(\"Digite o valor do raio: \"))\n",
    "A = pi * (R ** 2)\n",
    "print(\"Um círculo de raio {} tem área {}.\" .format(R, A))"
   ]
  },
  {
   "cell_type": "code",
   "execution_count": 8,
   "metadata": {},
   "outputs": [
    {
     "name": "stdout",
     "output_type": "stream",
     "text": [
      "Programa para o cálculo da área de um retângulo\n",
      "Um retângulo de lados 4.00       e 5.00       tem área 20.00     .\n",
      "Um retângulo de lados 4.00       e       5.00 tem área   20.00   .\n",
      "Um retângulo de lados 4.00       e       5.00 tem área   20.00   .\n",
      "Um retângulo de lados 4.00****** e ------5.00 tem área &&20.00&&&.\n"
     ]
    }
   ],
   "source": [
    "# Cálculo da área de um retângulo\n",
    "\n",
    "print(\"Programa para o cálculo da área de um retângulo\")\n",
    "a = float(input(\"Digite o valor do lado a: \"))\n",
    "b = float(input(\"Digite o valor do lado b: \"))\n",
    "A = a * b\n",
    "\n",
    "print(\"Um retângulo de lados {0:<10.2f} e {1:<10.2f} tem área {2:<10.2f}.\" .format(a, b, A))\n",
    "print(\"Um retângulo de lados {:<10.2f} e {:>10.2f} tem área {:^10.2f}.\" .format(a, b, A))\n",
    "print(f\"Um retângulo de lados {a:<10.2f} e {b:>10.2f} tem área {A:^10.2f}.\")\n",
    "print(f\"Um retângulo de lados {a:*<10.2f} e {b:->10.2f} tem área {A:&^10.2f}.\")\n",
    "\n",
    "\n",
    "# : são utilizados para fazer uma separação\n",
    "# à esquerda, é usado para identificar a sequência de variáveis\n",
    "# à direita para algumas configurações"
   ]
  },
  {
   "cell_type": "markdown",
   "metadata": {},
   "source": [
    "letra é usada para configurar o tipo de variável por exemplo, a seguir seguem algumas destas possibilidades:\n",
    "• f → ponto flutuante;\n",
    "\n",
    "• e → formato científico (exponencial);\n",
    "\n",
    "• g → formato de ponto flutuante para números menores e formato científico para números\n",
    "maiores.\n",
    "\n",
    "• d → inteiro (decimal);\n",
    "\n",
    "• b → binário;\n",
    "\n",
    "• n → formato numérico;\n",
    "\n",
    "• o → octogonal;\n",
    "\n",
    "• x → hexadecimal;\n",
    "\n",
    "• s → texto (string);\n",
    "\n",
    "• c → caractere."
   ]
  },
  {
   "cell_type": "code",
   "execution_count": 9,
   "metadata": {},
   "outputs": [
    {
     "name": "stdout",
     "output_type": "stream",
     "text": [
      "Programa para o cálculo da hipotenusa de um triângulo retângulo\n",
      "A hipotenusa de um triângulo retângulo de lados 6.0 e 5.0 é 7.810249675906654.\n"
     ]
    }
   ],
   "source": [
    "# Cálculo da hipotenusa de um triângulo retângulo\n",
    "\n",
    "from math import sqrt\n",
    "\n",
    "print(\"Programa para o cálculo da hipotenusa de um triângulo retângulo\")\n",
    "a = float(input(\"Digite o valor do lado a: \"))\n",
    "b = float(input(\"Digite o valor do lado b: \"))\n",
    "h = sqrt(a ** 2 + b ** 2)\n",
    "print(\"A hipotenusa de um triângulo retângulo de lados {2} e {1} é {0}.\".format(h, a, b))"
   ]
  },
  {
   "cell_type": "markdown",
   "metadata": {},
   "source": [
    "## Exercícios para praticar"
   ]
  },
  {
   "cell_type": "markdown",
   "metadata": {},
   "source": [
    "1. Ler dois valores a partir do teclado e, apresentar a soma destes"
   ]
  },
  {
   "cell_type": "code",
   "execution_count": 10,
   "metadata": {},
   "outputs": [
    {
     "name": "stdout",
     "output_type": "stream",
     "text": [
      "A soma entre os valores é  13.0\n"
     ]
    }
   ],
   "source": [
    "valor1 = float(input(\"Digite o primeiro valor: \"))\n",
    "valor2 = float(input(\"Digite o segundo valor: \"))\n",
    "soma = valor1 + valor2\n",
    "print(\"A soma entre os valores é \", soma)"
   ]
  },
  {
   "cell_type": "markdown",
   "metadata": {},
   "source": [
    "2. Ler dia, mês e ano de nascimento separadamente e apresentar a data formatada."
   ]
  },
  {
   "cell_type": "code",
   "execution_count": 12,
   "metadata": {},
   "outputs": [
    {
     "name": "stdout",
     "output_type": "stream",
     "text": [
      "Você nasceu no dia 1/1/1970.\n"
     ]
    }
   ],
   "source": [
    "dia = int(input(\"Digite o dia do seu nascimento: \"))\n",
    "mes = int(input(\"Digite o mês do seu nascimento: \"))\n",
    "ano = int(input(\"Digite o ano do seu nascimento: \"))\n",
    "\n",
    "print(\"Você nasceu no dia {}/{}/{}.\" .format(dia, mes, ano))"
   ]
  },
  {
   "cell_type": "markdown",
   "metadata": {},
   "source": [
    "3. Ler, a partir do teclado, os valores dos lados de um paralelepípedo e informar  o  valor do volume.\n",
    "\n",
    "$$"
   ]
  },
  {
   "cell_type": "code",
   "execution_count": null,
   "metadata": {},
   "outputs": [],
   "source": []
  },
  {
   "cell_type": "markdown",
   "metadata": {},
   "source": [
    "# 3. Estruturas Condicionais"
   ]
  },
  {
   "cell_type": "markdown",
   "metadata": {},
   "source": [
    "## 3.1 Estrutura Condicional ```if```"
   ]
  },
  {
   "cell_type": "markdown",
   "metadata": {},
   "source": [
    "- um bloco de instruções é executado apenas se a condição analisada retornar a variável booleana ```True```\n",
    "- define-se os blocos de instruções por identação\n",
    "- operadores lógicos:\n",
    "    - ```>``` (maior);\n",
    "    - ```<``` (menor);\n",
    "    - ```>=``` (maior ou igual);\n",
    "    - ```<=``` (menor ou igual);\n",
    "    - ```==``` (igual);\n",
    "    - ```!=``` (diferente)."
   ]
  },
  {
   "cell_type": "markdown",
   "metadata": {},
   "source": [
    "## 3.2 Estrutura Condicional ```if-else```"
   ]
  },
  {
   "cell_type": "markdown",
   "metadata": {},
   "source": [
    "- também conhecida como instrução bidirecional\n",
    "- operadores lógicos:\n",
    "    - ```and``` (e);\n",
    "    - ```or``` (ou);\n",
    "    - ```not``` (não);\n",
    "    - ```is``` para testar se duas variáveis se referem ao mesmo objeto\n",
    "    - ```in``` \n",
    "\n",
    "### Tabela verdade\n",
    "#### operador ```and```\n",
    "\n",
    "| ```x``` | ```y``` | ```x and y``` |\n",
    "|:---:|:---:|:---:|\n",
    "| True | True | True |\n",
    "| True | False | False |\n",
    "| False | True | False |\n",
    "| False | False | False |\n",
    "\n",
    "#### operador ```or```\n",
    "\n",
    "| ```x``` | ```y``` | ```x or y``` |\n",
    "|:---:|:---:|:---:|\n",
    "| True | True | True |\n",
    "| True | False | True |\n",
    "| False | True | True |\n",
    "| False | False | False |\n",
    "\n",
    "#### operador ```not```\n",
    "\n",
    "| ```x``` | ```not x``` |\n",
    "|:---:|:---:|\n",
    "| True | False |\n",
    "| False | True |\n",
    "\n",
    "### Precedência dos operadores de comparação e booleanos\n",
    "- Parenteses → ()\n",
    "- Exponciação → **\n",
    "- Multiplicação, divisão e resto da divisão → *, /, // %\n",
    "- Soma e subtração → +, -\n",
    "   Comparação → ==, !=, <, >, <=, >=\n",
    "• Negação lógica → not\n",
    "• Conjunção lógica → and\n",
    "• Disjunção lógica → or\n",
    "• Atribuição → =\n",
    "\n",
    "\n",
    "Os operadores de comparação e booleanos são avaliados depois de quaisquer operações envolvendo potenciação, multiplicação, divisão, soma e subtração, mas antes da atribuição, \n",
    "ou seja, a atribuição é uma exceção à regra de que as operações são avaliadas da esquerda para a direita, tudo o que está a direita do simbolo de atribuição é avaliado antes de ser feita a\n",
    "atribuição. \n",
    "Outra exceção é a exponenciação, para entender considere a expressão"
   ]
  },
  {
   "cell_type": "markdown",
   "metadata": {},
   "source": [
    "## 3.3 Estrutura Condicional ```if-elif-else```"
   ]
  },
  {
   "cell_type": "markdown",
   "metadata": {},
   "source": [
    "- conhecido como instrução de seleção multidirecional\n",
    "- mais de dois possíveis blocos de instruções\n",
    "- `curto-circuito`: quando a primeira condição é obedecida, o respectivo bloco é executado e as demais condições não são avaliadas"
   ]
  },
  {
   "cell_type": "markdown",
   "metadata": {},
   "source": [
    "## 3.4 Estrutura Condicional Aninhada"
   ]
  },
  {
   "cell_type": "markdown",
   "metadata": {},
   "source": []
  },
  {
   "cell_type": "code",
   "execution_count": null,
   "metadata": {},
   "outputs": [],
   "source": []
  },
  {
   "cell_type": "code",
   "execution_count": null,
   "metadata": {},
   "outputs": [],
   "source": []
  },
  {
   "cell_type": "markdown",
   "metadata": {},
   "source": [
    "## Exercícios para praticar - Capítulo 3"
   ]
  },
  {
   "cell_type": "markdown",
   "metadata": {},
   "source": [
    "1 - Ler um valor, digitado no teclado, e informar se ele é negativo."
   ]
  },
  {
   "cell_type": "code",
   "execution_count": 29,
   "metadata": {},
   "outputs": [
    {
     "name": "stdout",
     "output_type": "stream",
     "text": [
      "O número -3.0 é negativo.\n"
     ]
    }
   ],
   "source": [
    "x = float(input(\"Digite um número: \"))\n",
    "\n",
    "if x < 0:\n",
    "    print(\"O número {} é negativo.\" .format(x))"
   ]
  },
  {
   "cell_type": "markdown",
   "metadata": {},
   "source": [
    "2 - Ler um valor, digitado no teclado, e informar se ele é positivo."
   ]
  },
  {
   "cell_type": "code",
   "execution_count": 30,
   "metadata": {},
   "outputs": [
    {
     "name": "stdout",
     "output_type": "stream",
     "text": [
      "O número 5.0 é positivo.\n"
     ]
    }
   ],
   "source": [
    "x = float(input(\"Digite um número: \"))\n",
    "\n",
    "if x > 0:\n",
    "    print(\"O número {} é positivo.\" .format(x))"
   ]
  },
  {
   "cell_type": "markdown",
   "metadata": {},
   "source": [
    "3 - Ler um valor, digitado no teclado, e informar se ele é positivo, negativo ou nulo."
   ]
  },
  {
   "cell_type": "code",
   "execution_count": 24,
   "metadata": {},
   "outputs": [
    {
     "name": "stdout",
     "output_type": "stream",
     "text": [
      "O número -5.0 é negativo.\n"
     ]
    }
   ],
   "source": [
    "x = float(input(\"Digite um número: \"))\n",
    "\n",
    "if x > 0:\n",
    "    print(\"O número {} é positivo.\" .format(x))\n",
    "elif x == 0:\n",
    "    print(\"O número {} é nulo.\". format(x))\n",
    "else:\n",
    "    print(\"O número {} é negativo.\" .format(x))"
   ]
  },
  {
   "cell_type": "markdown",
   "metadata": {},
   "source": [
    "4 - Ler dois valores, digitado no teclado, e informar qual o maior valor absoluto."
   ]
  },
  {
   "cell_type": "code",
   "execution_count": null,
   "metadata": {},
   "outputs": [],
   "source": []
  },
  {
   "cell_type": "markdown",
   "metadata": {},
   "source": [
    "5 - Ler um valor, digitado no teclado, e informar se este ´e m´ultiplo de 3."
   ]
  },
  {
   "cell_type": "code",
   "execution_count": null,
   "metadata": {},
   "outputs": [],
   "source": []
  },
  {
   "cell_type": "markdown",
   "metadata": {},
   "source": [
    "6 - Faça o computador “pensar” em um número entre 0 e 5 e peça para o usuário tentar\n",
    "adivinhar informando um valor digitado no teclado.\n",
    "\n",
    "Dica: importe o pacote random. ```random.randint(0,5)}```"
   ]
  },
  {
   "cell_type": "code",
   "execution_count": null,
   "metadata": {},
   "outputs": [],
   "source": []
  },
  {
   "cell_type": "markdown",
   "metadata": {},
   "source": [
    "7 - Ler três números, digitados no teclado, e apresentar qual o maior e qual o menor número."
   ]
  },
  {
   "cell_type": "code",
   "execution_count": null,
   "metadata": {},
   "outputs": [],
   "source": []
  },
  {
   "cell_type": "markdown",
   "metadata": {},
   "source": [
    "8 - Ler as três notas de um aluno no semestre, digitados no teclado, e informar se ele foi aprovado (≥ 7, 0), reprovado (≤ 5, 0) ou de exame (entre 5, 1 e 6, 9)."
   ]
  },
  {
   "cell_type": "code",
   "execution_count": null,
   "metadata": {},
   "outputs": [],
   "source": []
  },
  {
   "cell_type": "markdown",
   "metadata": {},
   "source": [
    "9 - Ler o ano de nascimento de uma pessoa, digitados no teclado, e informar se ela poderá\n",
    "votar (leve em consideração apenas o ano, sem se importar com o mês).\n",
    "\n",
    "Dica:\n",
    "```python\n",
    "from datetime import datetime\n",
    "datetime.now().year\n",
    "```"
   ]
  },
  {
   "cell_type": "code",
   "execution_count": null,
   "metadata": {},
   "outputs": [],
   "source": []
  },
  {
   "cell_type": "markdown",
   "metadata": {},
   "source": [
    "10 - Ler dois valores, digitados no teclado, e retornar com uma das seguintes mensagens:\n",
    "- ambos são pares;\n",
    "- ambos são ímpares;\n",
    "- o primeiro é ímpar e o segundo é par;\n",
    "- o primeiro é par e o segundo é ímpar."
   ]
  },
  {
   "cell_type": "code",
   "execution_count": null,
   "metadata": {},
   "outputs": [],
   "source": []
  },
  {
   "cell_type": "markdown",
   "metadata": {},
   "source": [
    "11 - Ler a altura e o peso de uma pessoa, digitados no teclado, e apresentar a classificação,\n",
    "segundo o IMC:\n",
    "- < 18, 5 Abaixo do peso;\n",
    "- < 25 Peso normal;\n",
    "- < 30 Sobrepeso;\n",
    "- < 35 Obeso leve;\n",
    "- < 40 Obeso Moderado;\n",
    "- ≥ 40 Obeso Mórbido."
   ]
  },
  {
   "cell_type": "code",
   "execution_count": null,
   "metadata": {},
   "outputs": [],
   "source": []
  },
  {
   "cell_type": "markdown",
   "metadata": {},
   "source": [
    "12 - Leia dois números, digitados no teclado, e apresentar:\n",
    "\n",
    "- O primeiro valor é maior;\n",
    "- O segundo valor é maior;\n",
    "- Os valores são iguais."
   ]
  },
  {
   "cell_type": "code",
   "execution_count": null,
   "metadata": {},
   "outputs": [],
   "source": []
  },
  {
   "cell_type": "markdown",
   "metadata": {},
   "source": [
    "13 - Ler o ano de nascimento de uma pessoa, digitado no teclado, e apresentar:\n",
    "- Ainda não chegou a hora de se alistar;\n",
    "- Está na hora de se alistar;\n",
    "- Já passou da hora de se alistar.\n",
    "\n",
    "Dica:\n",
    "```python\n",
    "from datetime import datetime\n",
    "datetime.now().year\n",
    "```"
   ]
  },
  {
   "cell_type": "code",
   "execution_count": null,
   "metadata": {},
   "outputs": [],
   "source": []
  },
  {
   "cell_type": "markdown",
   "metadata": {},
   "source": [
    "14 - Ler os comprimentos dos três lados do triângulo, digitados no teclado, e caso ele possa formar um triângulo apresente se o triângulo é:\n",
    "\n",
    "- Equilátero: todos os lados iguais;\n",
    "- Isósceles: dois lados iguais;\n",
    "- Escaleno: todos os lados diferentes."
   ]
  },
  {
   "cell_type": "code",
   "execution_count": null,
   "metadata": {},
   "outputs": [],
   "source": []
  },
  {
   "cell_type": "markdown",
   "metadata": {},
   "source": [
    "15 - Jogue Jokenpô com o usuário;\n",
    "\n",
    "Dica: Faça uma lista [‘pedra’, ‘papel’, ‘tesoura’] e use a função ```randint```."
   ]
  },
  {
   "cell_type": "code",
   "execution_count": null,
   "metadata": {},
   "outputs": [],
   "source": []
  },
  {
   "cell_type": "markdown",
   "metadata": {},
   "source": [
    "16 - Ler a nota e a frequência de um aluno e avaliar se este está aprovado ou reprovado seguindo o regulamento da UTFPR."
   ]
  },
  {
   "cell_type": "code",
   "execution_count": null,
   "metadata": {},
   "outputs": [],
   "source": []
  },
  {
   "cell_type": "markdown",
   "metadata": {},
   "source": [
    "## Questionário do Capítulo 3"
   ]
  },
  {
   "cell_type": "code",
   "execution_count": 13,
   "metadata": {},
   "outputs": [
    {
     "name": "stdout",
     "output_type": "stream",
     "text": [
      "Maior que 5\n"
     ]
    }
   ],
   "source": [
    "x = 10\n",
    "if x > 5:\n",
    "    print(\"Maior que 5\")"
   ]
  },
  {
   "cell_type": "code",
   "execution_count": 14,
   "metadata": {},
   "outputs": [
    {
     "name": "stdout",
     "output_type": "stream",
     "text": [
      "7 é maior ou igual a 5\n"
     ]
    }
   ],
   "source": [
    "x = 7\n",
    "if x < 5:\n",
    "    print(f\"{x} é menor que 5\")\n",
    "else:\n",
    "    print(f\"{x} é maior ou igual a 5\")"
   ]
  },
  {
   "cell_type": "code",
   "execution_count": 15,
   "metadata": {},
   "outputs": [
    {
     "name": "stdout",
     "output_type": "stream",
     "text": [
      "Dentro do intervalo\n"
     ]
    }
   ],
   "source": [
    "x=10\n",
    "if x > 5 and x < 15:\n",
    "    print(\"Dentro do intervalo\")\n",
    "else:\n",
    "    print(\"Fora do intervalo\")"
   ]
  },
  {
   "cell_type": "code",
   "execution_count": 16,
   "metadata": {},
   "outputs": [
    {
     "name": "stdout",
     "output_type": "stream",
     "text": [
      "Impar\n"
     ]
    }
   ],
   "source": [
    "x = 3\n",
    "if x%2 == 0:\n",
    "    print(\"Par\")\n",
    "else:\n",
    "    print(\"Impar\")\n"
   ]
  },
  {
   "cell_type": "code",
   "execution_count": 17,
   "metadata": {},
   "outputs": [
    {
     "name": "stdout",
     "output_type": "stream",
     "text": [
      "4 está no intervalo\n"
     ]
    }
   ],
   "source": [
    "x = 4\n",
    "if x > 2:\n",
    "    if x < 5:\n",
    "        print(f\"{x} está no intervalo\")\n",
    "\n",
    "    else:\n",
    "        print(f\"{x} não está no intervalo\")\n",
    "else:\n",
    "    print(\"Valor fora do intervalo\")"
   ]
  },
  {
   "cell_type": "markdown",
   "metadata": {},
   "source": [
    "# 4. Breve Introdução ao Tratamento de Erros"
   ]
  },
  {
   "cell_type": "markdown",
   "metadata": {},
   "source": [
    "## 4.1 Estrutura ```try-except```"
   ]
  },
  {
   "cell_type": "markdown",
   "metadata": {},
   "source": [
    "- nesta estrutura executa-se as instruções do bloco ```try```, caso não ocorra qualquer erro o bloco ```except``` é ignorado, \n",
    "- mas caso ocorra qualquer erro na execução das instruções do\n",
    "bloco ```try```, executa-se as instruções do bloco ```except```.\n",
    "\n"
   ]
  },
  {
   "cell_type": "markdown",
   "metadata": {},
   "source": [
    "## 4.2 Estrutura ```try-else-except```"
   ]
  },
  {
   "cell_type": "markdown",
   "metadata": {},
   "source": [
    "- faz a execução do bloco ```try```, caso ocorra algum erro é executado o bloco ```except```, caso contrário é executado o bloco ```else```, \n",
    "- ou seja, se não ocorrer erro, os blocos ```try``` e ```else``` são executados. \n",
    "- Esta estrutura também pode possuir o bloco ```finally``` que é executado independentemente do que ocorre no bloco ```try```."
   ]
  },
  {
   "cell_type": "code",
   "execution_count": 32,
   "metadata": {},
   "outputs": [
    {
     "name": "stdout",
     "output_type": "stream",
     "text": [
      "Programa para o cálculo do inverso de um número\n",
      "Erro! Não foi possível realizar o cálculo.\n",
      "Instruções executadas independentemente se ocorreu ou não erro!\n"
     ]
    }
   ],
   "source": [
    "# Cálculo do inverso de um número usando o bloco `else`\n",
    "\n",
    "print(\"Programa para o cálculo do inverso de um número\")\n",
    "x = float(input(\"Digite o valor de x: \"))\n",
    "\n",
    "try:\n",
    "    over_x = 1 / x\n",
    "except:\n",
    "    print(\"Erro! Não foi possível realizar o cálculo.\")\n",
    "else:\n",
    "    print(\"O inverso de {} é {}.\" .format(x, over_x))\n",
    "finally:\n",
    "    print(\"Instruções executadas independentemente se ocorreu ou não erro!\")"
   ]
  },
  {
   "cell_type": "markdown",
   "metadata": {},
   "source": [
    "- é possível adicionar vários blocos except, um para cada tipo de erro retornado pelo Python na execução do bloco ```try```. \n",
    "  - Por exemplo, nos scripts são apresentados códigos com um bloco ```except``` para a divisão por zero e outro bloco ```except``` para um erro qualquer (diferente do anterior), \n",
    "  - o bloco ```finally```  é opcional."
   ]
  },
  {
   "cell_type": "code",
   "execution_count": 34,
   "metadata": {},
   "outputs": [
    {
     "name": "stdout",
     "output_type": "stream",
     "text": [
      "Programa para calcular o inverso de um número\n",
      "O inverso de 5.0 é 0.2.\n",
      "Instruções executadas independentemente se ocorreu ou não erro!\n"
     ]
    }
   ],
   "source": [
    "print(\"Programa para calcular o inverso de um número\")\n",
    "x = float(input(\"Digite o valor de x: \"))\n",
    "\n",
    "try:\n",
    "    over_x = 1 / x\n",
    "except ZeroDivisionError:\n",
    "    print(\"Erro! Divisão por zero!\")\n",
    "except:\n",
    "    print(\"Erro!\")\n",
    "else:\n",
    "    print(\"O inverso de {} é {}.\" .format(x, over_x))\n",
    "finally:\n",
    "    print(\"Instruções executadas independentemente se ocorreu ou não erro!\")"
   ]
  },
  {
   "cell_type": "markdown",
   "metadata": {},
   "source": [
    "- ```ZeroDivisionError```: Quando ocorre uma divisão por zero;\n",
    "- ```NameError```: Nome da variável não encontrado;\n",
    "- ```TypeError```: A função ou operação não pode ser aplicada ao tipo de argumento, por exemplo, dividir um número por uma string;\n",
    "- ```KeyboardInterrupt```: O usuário interrompeu a execução do programa;\n",
    "- ```RuntimeError```: Erros que não se encaixam em outras categorias."
   ]
  },
  {
   "cell_type": "markdown",
   "metadata": {},
   "source": [
    "## Exercícios para praticar - Capítulo 4"
   ]
  },
  {
   "cell_type": "markdown",
   "metadata": {},
   "source": []
  },
  {
   "cell_type": "code",
   "execution_count": null,
   "metadata": {},
   "outputs": [],
   "source": []
  },
  {
   "cell_type": "markdown",
   "metadata": {},
   "source": []
  },
  {
   "cell_type": "code",
   "execution_count": null,
   "metadata": {},
   "outputs": [],
   "source": []
  },
  {
   "cell_type": "markdown",
   "metadata": {},
   "source": []
  },
  {
   "cell_type": "code",
   "execution_count": null,
   "metadata": {},
   "outputs": [],
   "source": []
  }
 ],
 "metadata": {
  "kernelspec": {
   "display_name": "base",
   "language": "python",
   "name": "python3"
  },
  "language_info": {
   "codemirror_mode": {
    "name": "ipython",
    "version": 3
   },
   "file_extension": ".py",
   "mimetype": "text/x-python",
   "name": "python",
   "nbconvert_exporter": "python",
   "pygments_lexer": "ipython3",
   "version": "3.11.8"
  }
 },
 "nbformat": 4,
 "nbformat_minor": 2
}
