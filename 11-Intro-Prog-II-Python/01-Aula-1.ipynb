{
 "cells": [
  {
   "cell_type": "markdown",
   "metadata": {},
   "source": [
    "[1ª Aula Síncrona](https://drive.google.com/file/d/1yXIpJYqCw3DsSm7LGhZMy3qynfXp_Ely/view?usp=sharing)"
   ]
  },
  {
   "cell_type": "markdown",
   "metadata": {},
   "source": [
    "# 1. Introdução à Programação em Python"
   ]
  },
  {
   "cell_type": "markdown",
   "metadata": {},
   "source": [
    "1.1 Níveis de Linguagem de Programação\n",
    "- Alto Nível\n",
    "- Baixo Nível\n",
    "\n",
    "1.2 Compiladas ou Interpretadas\n",
    "- esta classificação não é absoluta\n",
    "- exemplos: Java, Maple\n",
    "\n",
    "1.2.1: Compiladas: \n",
    "- as instruções do código são transformadas em um arquivo executável\n",
    "- o executável deve ser criado especificamente para o sistema operacional onde se deseja executar o programa\n",
    "- exemplos: C/C++, Basic, Pascal, Fortran\n",
    "\n",
    "1.2.2: Interpretadas:\n",
    "- o código é interpretado e executado linha a linha\n",
    "- é necessário que o interpretador esteja instalado no computador\n",
    "- exemplos: Matlab, Scilab, Python, Ruby\n",
    "\n",
    "1.3 IDE:\n",
    "- *Integrated Development Environment*\n",
    "- exemplos: Idle, PyCharm, Spyder, Anaconda, VSCode, Jupyter Notebook, Google Colab\n",
    "- uma das funcionalidades que as IDEs oferecem é a depuração (*debugging*)\n",
    "- depuração é o processo de encontrar e corrigir erros no código\n",
    "  - Tipos de erros:\n",
    "    - Erros de Sintaxe: \n",
    "      - regra da linguagem de programação\n",
    "      - frequentemente é erro tipográfico\n",
    "      - são detectados antes da execução\n",
    "    - Erros de tempo de execução: \n",
    "      - surgem apenas durante a execução do programa (e geram mensagens específicas)\n",
    "      - exemplo: divisão por zero\n",
    "    - Erros de semântica: \n",
    "      - quando não se realiza exatamente o que se pretendia\n",
    "      - não são identificados pelo interpretador\n",
    "\n",
    "1.4 Etapas da Execução de um Programa:\n",
    "- Entrada de argumentos (dados)\n",
    "- Operação\n",
    "- Execuções condicionais\n",
    "- Execuções repetidas\n",
    "- Apresentação do resultado da execução\n",
    "\n",
    "1.5 Um pouco sobre Python\n",
    "- linguagem de alto nível\n",
    "- código aberto\n",
    "- tipagem dinâmica\n",
    "- permite integração com outras linguagens de programação como C e Fortran\n",
    "- criada por Guido van Rossum\n",
    "\n",
    "1.6 Processo de desenvolvimento de um programa\n",
    "Modelo de Cascata\n",
    "- uma abordagem de desenvolvimento de software\n",
    "- não é necessariamente linear\n",
    "- etapas:\n",
    "  - pedido do cliente\n",
    "  - análise: entrada e saídas do programa\n",
    "  - projeto: determinação das tarefas e divisão de tarefas\n",
    "  - implementação: codificação\n",
    "  - integração\n",
    "  - manutenção"
   ]
  },
  {
   "cell_type": "code",
   "execution_count": null,
   "metadata": {},
   "outputs": [],
   "source": []
  },
  {
   "cell_type": "markdown",
   "metadata": {},
   "source": [
    "# 2. Comandos Básicos"
   ]
  },
  {
   "cell_type": "markdown",
   "metadata": {},
   "source": [
    "## 2.1 Entrada e Saída de Informações"
   ]
  },
  {
   "cell_type": "code",
   "execution_count": 1,
   "metadata": {},
   "outputs": [
    {
     "name": "stdout",
     "output_type": "stream",
     "text": [
      "Hello, World!\n"
     ]
    }
   ],
   "source": [
    "print(\"Hello, World!\")"
   ]
  },
  {
   "cell_type": "code",
   "execution_count": 2,
   "metadata": {},
   "outputs": [],
   "source": [
    "# Comentário"
   ]
  },
  {
   "cell_type": "code",
   "execution_count": null,
   "metadata": {},
   "outputs": [
    {
     "name": "stdout",
     "output_type": "stream",
     "text": [
      "Olá,  Cintia !\n"
     ]
    }
   ],
   "source": [
    "n = input('Digite seu nome: ')\n",
    "print('Olá, ',n,\"!\")"
   ]
  },
  {
   "cell_type": "code",
   "execution_count": 5,
   "metadata": {},
   "outputs": [
    {
     "name": "stdout",
     "output_type": "stream",
     "text": [
      "A soma entre os valores é  12\n",
      "A soma entre os valores é  12\n"
     ]
    }
   ],
   "source": [
    "a = 5\n",
    "b = 7\n",
    "print('A soma entre os valores é ', a + b)\n",
    "\n",
    "soma = a + b\n",
    "print('A soma entre os valores é ',soma)"
   ]
  },
  {
   "cell_type": "markdown",
   "metadata": {},
   "source": [
    "não é possível utilizar espaços ou caracteres especiais: $, #, @,..."
   ]
  },
  {
   "cell_type": "markdown",
   "metadata": {},
   "source": [
    "## 2.2 Operações Aritméticas"
   ]
  },
  {
   "cell_type": "markdown",
   "metadata": {},
   "source": [
    "• Soma (+);\n",
    "• Diferen¸ca (-);\n",
    "• Multiplica¸c˜ao (*);\n",
    "• Divis˜ao (/);\n",
    "• Divis˜ao inteira (//);\n",
    "• Resto da divis˜ao inteira (%);\n",
    "• Potˆencia (**);\n",
    "• Positivo (+);\n",
    "• Negativo (-)\n",
    "\n",
    "\n",
    "### precedência das operações:\n",
    "• Parenteses → ()\n",
    "• Expenciação → **\n",
    "• Multiplicação, divisão e resto da divisão → *, /, // %\n",
    "• Soma e subtração → +, -\n",
    "\n",
    "## funções para transformação de um tipo de variável em outro:\n",
    "• float() - conversão para número real\n",
    "• int() - conversão para número inteiro\n",
    "• bool() - conversão para booleano\n",
    "• str() - conversão para string"
   ]
  },
  {
   "cell_type": "code",
   "execution_count": 6,
   "metadata": {},
   "outputs": [
    {
     "name": "stdout",
     "output_type": "stream",
     "text": [
      "Programa para o cálculo da área de um círculo\n",
      "Um círculo de raio 6.0 tem área 113.09733552923255.\n"
     ]
    }
   ],
   "source": [
    "# Cálculo da área de um círculo\n",
    "\n",
    "from math import pi\n",
    "\n",
    "print(\"Programa para o cálculo da área de um círculo\")\n",
    "R = float(input(\"Digite o valor do raio: \"))\n",
    "A = pi * (R ** 2)\n",
    "print(\"Um círculo de raio {} tem área {}.\" .format(R, A))"
   ]
  },
  {
   "cell_type": "code",
   "execution_count": null,
   "metadata": {},
   "outputs": [
    {
     "name": "stdout",
     "output_type": "stream",
     "text": [
      "Programa para o cálculo da área de um retângulo\n",
      "Um retângulo de lados 4.00       e 5.00       tem área 20.00     .\n",
      "Um retângulo de lados 4.00       e       5.00 tem área   20.00   .\n",
      "Um retângulo de lados 4.00       e       5.00 tem área   20.00   .\n",
      "Um retângulo de lados 4.00****** e ------5.00 tem área &&20.00&&&.\n"
     ]
    }
   ],
   "source": [
    "# Cálculo da área de um retângulo\n",
    "\n",
    "print(\"Programa para o cálculo da área de um retângulo\")\n",
    "a = float(input(\"Digite o valor do lado a: \"))\n",
    "b = float(input(\"Digite o valor do lado b: \"))\n",
    "A = a * b\n",
    "\n",
    "print(\"Um retângulo de lados {0:<10.2f} e {1:<10.2f} tem área {2:<10.2f}.\" .format(a, b, A))\n",
    "print(\"Um retângulo de lados {:<10.2f} e {:>10.2f} tem área {:^10.2f}.\" .format(a, b, A))\n",
    "print(f\"Um retângulo de lados {a:<10.2f} e {b:>10.2f} tem área {A:^10.2f}.\")\n",
    "print(f\"Um retângulo de lados {a:*<10.2f} e {b:->10.2f} tem área {A:&^10.2f}.\")\n",
    "\n",
    "\n",
    "# : são utilizados para fazer uma separação\n",
    "# à esquerda, é usado para identificar a sequência de variáveis\n",
    "# à direita para algumas configurações"
   ]
  },
  {
   "cell_type": "markdown",
   "metadata": {},
   "source": [
    "letra é usada para configurar o tipo de variável por exemplo, a seguir seguem algumas destas possibilidades:\n",
    "• f → ponto flutuante;\n",
    "\n",
    "• e → formato científico (exponencial);\n",
    "\n",
    "• g → formato de ponto flutuante para números menores e formato científico para números\n",
    "maiores.\n",
    "\n",
    "• d → inteiro (decimal);\n",
    "\n",
    "• b → binário;\n",
    "\n",
    "• n → formato numérico;\n",
    "\n",
    "• o → octogonal;\n",
    "\n",
    "• x → hexadecimal;\n",
    "\n",
    "• s → texto (string);\n",
    "\n",
    "• c → caractere."
   ]
  },
  {
   "cell_type": "code",
   "execution_count": 9,
   "metadata": {},
   "outputs": [
    {
     "name": "stdout",
     "output_type": "stream",
     "text": [
      "Programa para o cálculo da hipotenusa de um triângulo retângulo\n",
      "A hipotenusa de um triângulo retângulo de lados 6.0 e 5.0 é 7.810249675906654.\n"
     ]
    }
   ],
   "source": [
    "# Cálculo da hipotenusa de um triângulo retângulo\n",
    "\n",
    "from math import sqrt\n",
    "\n",
    "print(\"Programa para o cálculo da hipotenusa de um triângulo retângulo\")\n",
    "a = float(input(\"Digite o valor do lado a: \"))\n",
    "b = float(input(\"Digite o valor do lado b: \"))\n",
    "h = sqrt(a ** 2 + b ** 2)\n",
    "print(\"A hipotenusa de um triângulo retângulo de lados {2} e {1} é {0}.\".format(h, a, b))"
   ]
  },
  {
   "cell_type": "markdown",
   "metadata": {},
   "source": [
    "## Exercícios para praticar"
   ]
  },
  {
   "cell_type": "markdown",
   "metadata": {},
   "source": [
    "1. Ler dois valores a partir do teclado e, apresentar a soma destes"
   ]
  },
  {
   "cell_type": "code",
   "execution_count": 10,
   "metadata": {},
   "outputs": [
    {
     "name": "stdout",
     "output_type": "stream",
     "text": [
      "A soma entre os valores é  13.0\n"
     ]
    }
   ],
   "source": [
    "valor1 = float(input(\"Digite o primeiro valor: \"))\n",
    "valor2 = float(input(\"Digite o segundo valor: \"))\n",
    "soma = valor1 + valor2\n",
    "print(\"A soma entre os valores é \", soma)"
   ]
  },
  {
   "cell_type": "markdown",
   "metadata": {},
   "source": [
    "2. Ler dia, mês e ano de nascimento separadamente e apresentar a data formatada."
   ]
  },
  {
   "cell_type": "code",
   "execution_count": 12,
   "metadata": {},
   "outputs": [
    {
     "name": "stdout",
     "output_type": "stream",
     "text": [
      "Você nasceu no dia 1/1/1970.\n"
     ]
    }
   ],
   "source": [
    "dia = int(input(\"Digite o dia do seu nascimento: \"))\n",
    "mes = int(input(\"Digite o mês do seu nascimento: \"))\n",
    "ano = int(input(\"Digite o ano do seu nascimento: \"))\n",
    "\n",
    "print(\"Você nasceu no dia {}/{}/{}.\" .format(dia, mes, ano))"
   ]
  },
  {
   "cell_type": "markdown",
   "metadata": {},
   "source": [
    "3. Ler, a partir do teclado, os valores dos lados de um paralelepípedo e informar  o  valor do volume.\n",
    "\n",
    "$$"
   ]
  },
  {
   "cell_type": "code",
   "execution_count": null,
   "metadata": {},
   "outputs": [],
   "source": []
  },
  {
   "cell_type": "markdown",
   "metadata": {},
   "source": [
    "# 3. Estruturas Condicionais"
   ]
  },
  {
   "cell_type": "markdown",
   "metadata": {},
   "source": []
  },
  {
   "cell_type": "markdown",
   "metadata": {},
   "source": [
    "# 4. Breve Introdução ao Tratamento de Erros"
   ]
  },
  {
   "cell_type": "code",
   "execution_count": null,
   "metadata": {},
   "outputs": [],
   "source": []
  }
 ],
 "metadata": {
  "kernelspec": {
   "display_name": "base",
   "language": "python",
   "name": "python3"
  },
  "language_info": {
   "codemirror_mode": {
    "name": "ipython",
    "version": 3
   },
   "file_extension": ".py",
   "mimetype": "text/x-python",
   "name": "python",
   "nbconvert_exporter": "python",
   "pygments_lexer": "ipython3",
   "version": "3.11.8"
  }
 },
 "nbformat": 4,
 "nbformat_minor": 2
}
