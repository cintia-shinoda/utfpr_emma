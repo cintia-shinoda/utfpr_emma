{
 "cells": [
  {
   "cell_type": "markdown",
   "metadata": {},
   "source": [
    "[2ª Aula Síncrona](https://drive.google.com/file/d/1QYzJK9_op77imHh3mLEvNGA7ff9UCdpv/view?usp=sharing)"
   ]
  },
  {
   "cell_type": "markdown",
   "metadata": {},
   "source": [
    "# 5. Variáveis Compostas"
   ]
  },
  {
   "cell_type": "markdown",
   "metadata": {},
   "source": [
    "## 5.1 Tuplas"
   ]
  },
  {
   "cell_type": "markdown",
   "metadata": {},
   "source": [
    "- delimitados por parênteses;\n",
    "- imutáveis;\n",
    "- ```tupla_nome[i]``` → elemento de índice i da tupla (a contagem de índice começa em zero);\n",
    "- ```tupla_nome[start:end]``` → elementos em um intervalo de ```start``` até ```end``` (```- 1```);\n",
    "- ```tupla_nome[start:]``` → elementos de um intervalo de ```start``` até o final da tupla;\n",
    "- ```tupla_nome[:end]``` → elementos do primeiro (índice zero) até ```end``` (- 1);\n",
    "- ```tupla_nome[:]``` → todos os elemento da tupla;\n",
    "- ```tupla_nome[-1]``` → último elemento da tupla;\n",
    "- ```len(tupla_nome)``` → retorna o número de elementos da tupla.\n",
    "- ```tupla_nome1 + tupla_nome2``` → junta o conteúdo de duas tuplas em uma nova tupla;\n",
    "- ```tupla_nome.count(obj)``` → retorna o número de vezes que um objeto aparece na tupla;\n",
    "- ```tupla_nome.index(obj)``` → retorna o índice em que um objeto aparece pela primeira vez em uma tupla;\n",
    "- ```sorted(tupla_nome, reverse=True/False)``` → ordena o conteúdo da tupla;\n",
    "- ```del(tupla_nome)``` → apaga a tupla da memória."
   ]
  },
  {
   "cell_type": "markdown",
   "metadata": {},
   "source": [
    "## 5.2 Listas"
   ]
  },
  {
   "cell_type": "markdown",
   "metadata": {},
   "source": [
    "- delimitados por colchetes\n",
    "- são mutáveis;\n",
    "\n",
    "- ```lista_nome = []``` → cria uma lista vazia;\n",
    "- ```lista_nome = list()``` → cria uma lista vazia;\n",
    "- ```lista_nome = list(range(end))``` → cria uma lista com números inteiros de zero até end - 1;\n",
    "- ```lista_nome = [iterador for iterador in range(end)]``` → similar ao anterior usando *list comprehension* (uma forma mais rápida de criação de uma lista);\n",
    "- ```lista_nome = list(range(start:end))``` → cria uma lista com números inteiros de start até end (- 1);\n",
    "- ```lista_nome = [iterador for iterador in range(start:end)]``` → similar ao anterior usando *list comprehension*;\n",
    "- ```lista_nome = list(range(start:end:step))``` → cria uma lista com números inteiros de start até end (- 1) com passo step;\n",
    "- ```lista_nome = [iterador for iterador in range(start:end:step)]``` →similar ao anterior usando *list comprehension*;\n",
    "- ```lista_nome = [obj]*n``` → cria uma lista contendo n vezes um mesmo objeto;\n",
    "- ```lista_nome.append(outra_lista)``` → adiciona os elementos de ```outra_lista``` ao final da ```lista_nome```;\n",
    "- ```lista_nome.insert(índice, obj)``` → adiciona um objeto no índice informado;\n",
    "- ```del lista_nome[índice]``` → apaga da lista o objeto do índice informado;\n",
    "- ```lista_nome.pop(índice)``` → apaga da lista o objeto do índice informado;\n",
    "- ```lista_nome.remove(obj)``` → remove o objeto informado da lista;\n",
    "- ```lista_nome.clear()``` → apaga todo o conteúdo de uma lista;\n",
    "- ```sorted(lista_nome, reverse=True/False)``` → ordena o conteúdo da lista;\n",
    "- ```lista_nome[índice] = novo_obj``` → substitui o conteúdo do índice informado;\n",
    "- ```lista_nome1 + lista_nome2``` → junta o conteúdo de duas listas em uma nova lista;\n",
    "- ```lista_a = lista_b``` → as duas listas passam a ocupar o mesmo lugar na memória (se o conteúdo de uma é alterado o conteúdo da outra sofre a mesma alteração);\n",
    "- ```lista_a = lista_b[:]``` → o conteúdo da ```lista_b``` é copiado para lista_a.\n",
    "<br>\n",
    "\n",
    "- métodos modificadores: não é usado o comando de atribuição\n",
    "- exemplos: ```.append, .pop, .remove, .clear, .extend\n",
    "<br>\n",
    "\n",
    "- listas são similares aos vetores em outras linguagens de programação -- porém vetores aceitam apenas o mesmo tipo de objeto em todos os índices\n",
    "- uma lista de listas é uma estrutura similar às matrizes em outras linguagens -- entretanto, aceitam diferentes tipos de objetos, é possível que cada lista tenha um tamanho diferente\n",
    "<br>\n",
    "\n",
    "### Lista de listas\n",
    "- para criar uma lista de listas: ```[[lista_1], [lista_2], [lista_3], ..., [lista_n]]```\n",
    "- o referenciamento à uma lista dentro da lista: ```lista_nome[índice_lista]\n",
    "- referenciamento de um termo de uma das listas contida na lista de listas: ```lista_nome[índice_lista][índice_termo]```"
   ]
  },
  {
   "cell_type": "markdown",
   "metadata": {},
   "source": [
    "## 5.3 Dicionários"
   ]
  },
  {
   "cell_type": "markdown",
   "metadata": {},
   "source": [
    "- chave-valor\n",
    "- ```{key_1:value_1, key_2:value_2, ..., key_n:value_n}\n",
    "<br>\n",
    "\n",
    "- ```dict_nome = {}``` → cria um dicionário vazio;\n",
    "- ```dict_nome = dict()``` → cria um dicionário vazio;\n",
    "- ```dict_nome[key]``` → referência a um dos elementos do dicionário;\n",
    "- ```dict_nome[key] = obj``` → adiciona um novo elemento ao dicionário;\n",
    "- ```del dict_nome[key]``` → apaga um elemento do dicionário;\n",
    "- ```dict_nome.items()``` → retorna uma lista em que cada elemento é uma tupla, sendo os elementos de cada tupla, respectivamente, a key e o value de cada elemento do dicionário;\n",
    "- ```dict_nome.keys()``` → retorna uma lista com as keys do dicionário;\n",
    "- ```dict_nome.values()``` → retorna uma lista com os values do dicionário;\n",
    "- ```lista_nome[indice-lista][key]``` → referenciação em uma lista de dicionários;\n",
    "- ```dict_nome.copy()``` → copia o conteúdo de um dicionário."
   ]
  },
  {
   "cell_type": "markdown",
   "metadata": {},
   "source": [
    "## 5.4 Strings"
   ]
  },
  {
   "cell_type": "markdown",
   "metadata": {},
   "source": [
    "- delimitadas por aspas simples ou duplas\n",
    "- não são exatamente variáveis compostas\n",
    "- são imutáveis\n",
    "<br>\n",
    "\n",
    "- ```string\\_nome``` = ‘conjunto de caracteres’ → Cria uma variável do tipo string;\n",
    "- ```string_nome[i]``` → elemento de índice i da string;\n",
    "- ```string_nome[start:end]``` → elementos em um intervalo de start até ‘end’ (- 1);\n",
    "- ```string_nome[start:]``` → elementos de um intervalo de start até o final da string;\n",
    "- ```string_nome[:end]``` → elementos do primeiro (índice zero) até end (- 1);\n",
    "- ```string_nome[:]``` → todos os elemento da string;\n",
    "- ```string_nome[-1]``` → último elemento da string;\n",
    "- ```len(string_nome)``` → retorna o número de caracteres de uma string.\n",
    "- ```string_nome.count(‘char’)``` → retorna o número de vezes que um caractere (ou conjunto de caracteres) aparece em uma string;\n",
    "- ```string_nome.find(‘char’)``` → retorna o índice em que primeiro aparece um caractere(ou conjunto de caracteres);\n",
    "- ```‘char’ in string_nome``` → retorna uma variável booleana (True/False) se um caractere (ou conjunto de caracteres) está contido em uma string;\n",
    "- ```string_nome.replace(‘char_new’, ‘char_old’)``` → substitui um caractere (ou conjunto de caracteres);\n",
    "- ```string_nome.upper()``` → retorna o conteúdo da string em letras maiúsculas;\n",
    "- ```string_nome.lower()``` → retorna o conteúdo da string em letras minúsculas;\n",
    "- ```string_nome.capitalize()``` →retorna o conteúdo da string com a primeira letra maiúscula e as outras letras minúsculas;\n",
    "- ```string_nome.title()``` → retorna o conteúdo da string com a primeira letra de cada palavra em maiúscula e as outras letras minúsculas;\n",
    "- ```string_nome.strip()``` → retorna o conteúdo da string sem os espaços vazios a esquerda e a direita;\n",
    "- ```string_nome.rstrip()``` → retorna o conteúdo da string sem os espaços vazios a direita;\n",
    "- ```string_nome.lstrip()``` → retorna o conteúdo da string sem os espaços vazios a esquerda;\n",
    "- ```string_nome.split()``` → ‘quebra’ a string nos espaços em branco resultando em uma lista;\n",
    "- ```char.join(lista_nome)``` → junta os elementos de uma lista, colocando entre cada um deste elementos o caractere informado.\n",
    "<br>\n",
    "\n",
    "### sequências de escape\n",
    "- são a maneira como o Python expressa caracteres especiais como nova linha, tabulação, backspace (tecla delete), entre outros. \n",
    "- ```\\b``` - Backspace (retrocesso);\n",
    "- ```\\n``` - Nova linha;\n",
    "- ```\\t``` - Tabulação horizontal;\n",
    "- ```\\\\``` - Caractere \\;\n",
    "- ```\\’``` - Aspas simples;\n",
    "- ```\\’’``` - Aspas duplas."
   ]
  },
  {
   "cell_type": "code",
   "execution_count": 2,
   "metadata": {},
   "outputs": [
    {
     "name": "stdout",
     "output_type": "stream",
     "text": [
      "[0, 1, 2, 3, 4, 5, 6, 7, 8, 9]\n"
     ]
    }
   ],
   "source": [
    "print(list(range(10)))"
   ]
  },
  {
   "cell_type": "markdown",
   "metadata": {},
   "source": [
    "# 6. Estruturas Iterativas Definidas"
   ]
  },
  {
   "cell_type": "markdown",
   "metadata": {},
   "source": [
    "## 6.1 ```for```"
   ]
  },
  {
   "cell_type": "markdown",
   "metadata": {},
   "source": [
    "- ```for iterador in [lista]:```"
   ]
  },
  {
   "cell_type": "code",
   "execution_count": null,
   "metadata": {},
   "outputs": [],
   "source": [
    "for i in [0, 1, 2, 3, 4, 5, 6, 7, 8, 9, 10]:\n",
    "    print (i)"
   ]
  },
  {
   "cell_type": "code",
   "execution_count": 6,
   "metadata": {},
   "outputs": [
    {
     "name": "stdout",
     "output_type": "stream",
     "text": [
      "Termodinâmica\n",
      "Python\n",
      "Reatores\n",
      "Otimização\n",
      "Simulação\n"
     ]
    }
   ],
   "source": [
    "for i in ['Termodinâmica', 'Python', 'Reatores', 'Otimização', 'Simulação']:\n",
    "    print (i)"
   ]
  },
  {
   "cell_type": "code",
   "execution_count": null,
   "metadata": {},
   "outputs": [],
   "source": [
    "for i in range (0 ,101) :\n",
    "    print (i)"
   ]
  },
  {
   "cell_type": "code",
   "execution_count": null,
   "metadata": {},
   "outputs": [],
   "source": [
    "for i in range (0 ,101 ,3):\n",
    "    print (i)"
   ]
  },
  {
   "cell_type": "code",
   "execution_count": 9,
   "metadata": {},
   "outputs": [
    {
     "name": "stdout",
     "output_type": "stream",
     "text": [
      "Na posição 0, a lista possui o item 3\n",
      "Na posição 1, a lista possui o item 2\n",
      "Na posição 2, a lista possui o item 9\n",
      "Na posição 3, a lista possui o item 7\n",
      "Na posição 4, a lista possui o item -5\n",
      "Na posição 5, a lista possui o item 10\n"
     ]
    }
   ],
   "source": [
    "lista = [3, 2, 9, 7, -5, 10]\n",
    "\n",
    "for i, val in enumerate ( lista ):\n",
    "    print ('Na posição {}, a lista possui o item {}' . format (i, val))"
   ]
  },
  {
   "cell_type": "code",
   "execution_count": 10,
   "metadata": {},
   "outputs": [
    {
     "name": "stdout",
     "output_type": "stream",
     "text": [
      "O dicionário possui a key Disciplina\n",
      "O dicionário possui a key Professor(a)\n",
      "O dicionário possui a key Semestre\n",
      "O dicionário possui a key Nota\n"
     ]
    }
   ],
   "source": [
    "# usando as keys de um dicionário:\n",
    "\n",
    "dicionario = {'Disciplina':'Termodinâmica ', \n",
    "              'Professor(a)':'Vilmar', \n",
    "              'Semestre':4, \n",
    "              'Nota': 9.5}\n",
    "for k in dicionario.keys():\n",
    "    print ('O dicionário possui a key {}' . format (k))"
   ]
  },
  {
   "cell_type": "code",
   "execution_count": null,
   "metadata": {},
   "outputs": [
    {
     "name": "stdout",
     "output_type": "stream",
     "text": [
      "O dicionário possui o valor Termodinâmica\n",
      "O dicionário possui o valor Vilmar \n",
      "O dicionário possui o valor 4\n",
      "O dicionário possui o valor 9.5\n"
     ]
    }
   ],
   "source": [
    "# usando as values de um dicionário:\n",
    "\n",
    "dicionario = {'Disciplina ':'Termodinâmica', \n",
    "              'Professor(a)':'Vilmar ', \n",
    "              'Semestre ': 4, \n",
    "              'Nota ': 9.5}\n",
    "\n",
    "for v in dicionario.values ():\n",
    "    print ('O dicionário possui o valor {}' . format (v))"
   ]
  },
  {
   "cell_type": "code",
   "execution_count": 13,
   "metadata": {},
   "outputs": [
    {
     "name": "stdout",
     "output_type": "stream",
     "text": [
      "Na key Disciplina o dicionário possui o valor Termodinâmica\n",
      "Na key Professor(a) o dicionário possui o valor Vilmar\n",
      "Na key Semestre o dicionário possui o valor 4\n",
      "Na key Nota o dicionário possui o valor 9.5\n"
     ]
    }
   ],
   "source": [
    "# usando as keys e os values de um dicionário:\n",
    "\n",
    "dicionario = {'Disciplina':'Termodinâmica', \n",
    "              'Professor(a)':'Vilmar', \n",
    "              'Semestre': 4, \n",
    "              'Nota': 9.5}\n",
    "\n",
    "for k, v in dicionario.items():\n",
    "    print ('Na key {} o dicionário possui o valor {}' . format(k, v))"
   ]
  },
  {
   "cell_type": "markdown",
   "metadata": {},
   "source": [
    "### 6.1.1 Fatorial"
   ]
  },
  {
   "cell_type": "markdown",
   "metadata": {},
   "source": [
    "$n!$"
   ]
  },
  {
   "cell_type": "code",
   "execution_count": null,
   "metadata": {},
   "outputs": [
    {
     "name": "stdout",
     "output_type": "stream",
     "text": [
      "n! = 1.\n",
      "n! = 2.\n",
      "n! = 6.\n",
      "n! = 24.\n",
      "n! = 120.\n"
     ]
    }
   ],
   "source": [
    "# cálculo do fatorial com passo positivo\n",
    "\n",
    "n = int(input('Digite o valor de n ='))\n",
    "fat = 1\n",
    "\n",
    "for i in range (1, n+1):\n",
    "    fat = fat * i\n",
    "print('n! = {}.' . format (fat))"
   ]
  },
  {
   "cell_type": "code",
   "execution_count": 15,
   "metadata": {},
   "outputs": [
    {
     "name": "stdout",
     "output_type": "stream",
     "text": [
      "n! = 120.\n"
     ]
    }
   ],
   "source": [
    "# cálculo do fatorial com passo negativo\n",
    "\n",
    "n = int(input('Digite o valor de n ='))\n",
    "fat = 1\n",
    "\n",
    "for i in range (n, 0, -1):\n",
    "    fat = fat * i\n",
    "print('n! = {}.' . format (fat))"
   ]
  },
  {
   "cell_type": "markdown",
   "metadata": {},
   "source": [
    "### 6.1.2 Série de Fibonacci"
   ]
  },
  {
   "cell_type": "markdown",
   "metadata": {},
   "source": [
    "- o primeiro e o segundo termos são igual a 1\n",
    "- os seguintes são resultantes da soma de seus dois antecessores\n",
    "\n",
    "- desta sequência obtém-se a definição do número $\\phi$ (\"phi\")\n",
    "- valor aproximado de $\\phi$ é $1,618$\n",
    "- gerado à partir da divisão de um número da série de Fibonacci pelo seu antecessor\n",
    "- quanto maior o índice do termo utilizado, maior a precisão do valor de $\\phi$"
   ]
  },
  {
   "cell_type": "code",
   "execution_count": 17,
   "metadata": {},
   "outputs": [
    {
     "name": "stdout",
     "output_type": "stream",
     "text": [
      "* - * - * - * - * - * - * - * - * - * - * - * - * - * - * - * - * - * - * - * - \n",
      "         Sequência de Fibonacci          \n",
      "* - * - * - * - * - * - * - * - * - * - * - * - * - * - * - * - * - * - * - * - \n",
      "1 -> 1 -> 2-> 3-> 5-> 8-> 13-> 21-> 34-> 55"
     ]
    }
   ],
   "source": [
    "print ( '* - '*20)\n",
    "print ( '{:^40} ' . format ('Sequência de Fibonacci'))\n",
    "print ( '* - '*20)\n",
    "\n",
    "termo1 = 1\n",
    "termo2 = 1\n",
    "\n",
    "n = int(input ('Quantos termos você quer que sejam mostrados? (min. 3): '))\n",
    "\n",
    "print ( '{} -> {} ' . format (termo1 , termo2 ), end ='')\n",
    "for j in range (3, n+1):\n",
    "    termo3 = termo2 + termo1\n",
    "    print ('-> {}' . format ( termo3 ), end= '')\n",
    "    termo1 = termo2\n",
    "    termo2 = termo3"
   ]
  },
  {
   "cell_type": "code",
   "execution_count": null,
   "metadata": {},
   "outputs": [
    {
     "name": "stdout",
     "output_type": "stream",
     "text": [
      "* - * - * - * - * - * - * - * - * - * - * - * - * - * - * - * - * - * - * - * - \n",
      "         Sequência de Fibonacci          \n",
      "* - * - * - * - * - * - * - * - * - * - * - * - * - * - * - * - * - * - * - * - \n",
      "1 -> 1 -> 2 -> 3 -> 5 -> 8 -> 13 -> 21 -> 34 -> 55"
     ]
    }
   ],
   "source": [
    "# Sequência de Fibonacci com intervalo de tempo\n",
    "\n",
    "from time import sleep\n",
    "\n",
    "print ( '* - ' * 20)\n",
    "print ( '{:^40} ' . format ('Sequência de Fibonacci'))\n",
    "print ( '* - ' * 20)\n",
    "\n",
    "termo1 = 1\n",
    "termo2 = 1\n",
    "n = int(input ('Quantos termos você quer que sejam mostrados? (min. 3): '))\n",
    "\n",
    "sleep (0.5)\n",
    "\n",
    "print ( '{}' . format ( termo1 ), end ='', flush = True )\n",
    "\n",
    "sleep (0.5)\n",
    "\n",
    "print (' -> {}' . format ( termo2 ), end= '', flush = True )\n",
    "\n",
    "for j in range (3, n+1):\n",
    "    termo3 = termo2 + termo1\n",
    "    sleep (0.5)\n",
    "    print (' -> {}' . format ( termo3 ), end= '', flush = True )\n",
    "    termo1 = termo2\n",
    "    termo2 = \n",
    "    \n",
    "\n",
    "    # o argumento flush na função print para garantir que o conteúdo seja apresentado no tempo certo, pois pode ocorrer de o conteúdo só ser apresentado após algumas iterações."
   ]
  },
  {
   "cell_type": "markdown",
   "metadata": {},
   "source": [
    "### 6.1.3 Progressões Aritmética e Geométrica"
   ]
  },
  {
   "cell_type": "markdown",
   "metadata": {},
   "source": [
    "#### Progressão Aritmética (PA)"
   ]
  },
  {
   "cell_type": "markdown",
   "metadata": {},
   "source": [
    "$a_{i} = a_{1} + (i - 1)r$\n",
    "\n",
    "$a_{i+1} = a_{i} + r$"
   ]
  },
  {
   "cell_type": "code",
   "execution_count": 19,
   "metadata": {},
   "outputs": [
    {
     "name": "stdout",
     "output_type": "stream",
     "text": [
      "* - * - * - * - * - * - * - * - * - * - * - * - * - * - * - * - * - * - * - * - \n",
      "         Progressão aritimética          \n",
      "* - * - * - * - * - * - * - * - * - * - * - * - * - * - * - * - * - * - * - * - \n",
      "a1 = 2 \n",
      "a_ 2 = 5 \n",
      "a_ 3 = 8 \n",
      "a_ 4 = 11 \n",
      "a_ 5 = 14 \n",
      "a_ 6 = 17 \n",
      "a_ 7 = 20 \n",
      "a_ 8 = 23 \n",
      "a_ 9 = 26 \n",
      "a_ 10 = 29 \n"
     ]
    }
   ],
   "source": [
    "print ( '* - '*20)\n",
    "print ( '{:^40} ' . format (' Progressão aritimética'))\n",
    "print ( '* - '*20)\n",
    "\n",
    "n = int(input (' Quantos termos você quer que sejam mostrados?:'))\n",
    "a = int( input ('Qual o primeiro termo da série?:'))\n",
    "r = int( input ('Qual a razão da série?: '))\n",
    "\n",
    "i = 1\n",
    "print ('a{} = {} '. format (i, a))\n",
    "for j in range (1, n):\n",
    "    a += r\n",
    "    i += 1\n",
    "    print ('a_ {} = {} '. format (i, a))"
   ]
  },
  {
   "cell_type": "markdown",
   "metadata": {},
   "source": [
    "#### Progressão Geométrica (PG)"
   ]
  },
  {
   "cell_type": "markdown",
   "metadata": {},
   "source": [
    "$a{i} = a_{1} q^{i-1}$\n",
    "\n",
    "$a_{i+1}= a_{i}q$"
   ]
  },
  {
   "cell_type": "code",
   "execution_count": 21,
   "metadata": {},
   "outputs": [
    {
     "name": "stdout",
     "output_type": "stream",
     "text": [
      "* - * - * - * - * - * - * - * - * - * - * - * - * - * - * - * - * - * - * - * - \n",
      "         Progressão geométrica           \n",
      "* - * - * - * - * - * - * - * - * - * - * - * - * - * - * - * - * - * - * - * - \n",
      "a1 = 1 \n",
      "a2 = 2 \n",
      "a3 = 4 \n",
      "a4 = 8 \n",
      "a5 = 16 \n",
      "a6 = 32 \n",
      "a7 = 64 \n",
      "a8 = 128 \n",
      "a9 = 256 \n",
      "a10 = 512 \n"
     ]
    }
   ],
   "source": [
    "print ( '* - '*20)\n",
    "print ( '{:^40} ' . format (' Progressão geométrica '))\n",
    "print ( '* - '*20)\n",
    "\n",
    "n = int(input('Quantos termos você quer que sejam mostrados?: '))\n",
    "a = int(input('Qual o primeiro termo da série ?:'))\n",
    "q = int( input (' Qual a razão da série?: '))\n",
    "\n",
    "i = 1\n",
    "print ('a{} = {} '. format (i, a))\n",
    "for j in range (1, n):\n",
    "    a *= q\n",
    "    i += 1\n",
    "    print ('a{} = {} '. format (i, a))"
   ]
  },
  {
   "cell_type": "markdown",
   "metadata": {},
   "source": [
    "### 6.1.4 Ordenação de listas"
   ]
  },
  {
   "cell_type": "code",
   "execution_count": 22,
   "metadata": {},
   "outputs": [
    {
     "name": "stdout",
     "output_type": "stream",
     "text": [
      "* - * - * - * - * - * - * - * - * - * - * - * - * - * - * - * - * - * - * - * - \n",
      "       Maior número de uma lista         \n",
      "* - * - * - * - * - * - * - * - * - * - * - * - * - * - * - * - * - * - * - * - \n",
      "O maior valor da lista é 74. \n"
     ]
    }
   ],
   "source": [
    "# usando a função max\n",
    "\n",
    "print ( '* - '*20)\n",
    "print ( '{:^40} ' . format ('Maior número de uma lista'))\n",
    "print ( '* - '*20)\n",
    "\n",
    "lista = [3 ,41 ,12 ,9 ,74 ,15]\n",
    "print ('O maior valor da lista é {}. ' . format (max( lista )))"
   ]
  },
  {
   "cell_type": "code",
   "execution_count": 23,
   "metadata": {},
   "outputs": [
    {
     "name": "stdout",
     "output_type": "stream",
     "text": [
      "* - * - * - * - * - * - * - * - * - * - * - * - * - * - * - * - * - * - * - * - \n",
      "       Maior número de uma lista         \n",
      "* - * - * - * - * - * - * - * - * - * - * - * - * - * - * - * - * - * - * - * - \n",
      "O maior valor da lista é 74. \n"
     ]
    }
   ],
   "source": [
    "# comparando termo a termo\n",
    "\n",
    "print ( '* - '*20)\n",
    "print ( '{:^40} ' . format ('Maior número de uma lista'))\n",
    "print ( '* - '*20)\n",
    "\n",
    "lista = [3 ,41 ,12 ,9 ,74 ,15]\n",
    "max_lista = lista [0]\n",
    "\n",
    "for i in range (1, len( lista )):\n",
    "    if lista [i] > max_lista :\n",
    "        max_lista = lista [i]\n",
    "print ('O maior valor da lista é {}. ' . format ( max_lista ))"
   ]
  },
  {
   "cell_type": "code",
   "execution_count": 24,
   "metadata": {},
   "outputs": [
    {
     "name": "stdout",
     "output_type": "stream",
     "text": [
      "* - * - * - * - * - * - * - * - * - * - * - * - * - * - * - * - * - * - * - * - \n",
      "           Ordenação de lista            \n",
      "* - * - * - * - * - * - * - * - * - * - * - * - * - * - * - * - * - * - * - * - \n",
      "A lista ordenada fica [3, 9, 12, 15, 41, 74]. \n"
     ]
    }
   ],
   "source": [
    "# ordenação de uma lista usando a função sorted\n",
    "\n",
    "print ( '* - '*20)\n",
    "print ( '{:^40} ' . format (' Ordenação de lista '))\n",
    "print ( '* - '*20)\n",
    "\n",
    "lista = [3 ,41 ,12 ,9 ,74 ,15]\n",
    "print ('A lista ordenada fica {}. ' . format (sorted(lista)))"
   ]
  },
  {
   "cell_type": "markdown",
   "metadata": {},
   "source": [
    "Algoritmos de ordenação:\n",
    "- **selection sort**: seleciona o menor número da lista e o troca de posição com o primeiro termo da lista...\n",
    "- **quick sort**: consiste em, selecionar um pivô que será colocado em sua posição ordenada e contendo a sua esquerda apenas números menores que o pivô e a direita números maiores que\n",
    "este. Ao final tem-se duas sublistas que precisam ser ordenadas."
   ]
  },
  {
   "cell_type": "code",
   "execution_count": 26,
   "metadata": {},
   "outputs": [
    {
     "name": "stdout",
     "output_type": "stream",
     "text": [
      "* - * - * - * - * - * - * - * - * - * - \n",
      " Ordenação de lista  \n",
      "* - * - * - * - * - * - * - * - * - * - \n",
      "A lista ordenada fica [3, 9, 12, 15, 41, 74]. \n"
     ]
    }
   ],
   "source": [
    "# ordenação usando o algoritmo selection sort\n",
    "\n",
    "print ('* - ' * 10)\n",
    "print ('{:^20} ' . format ('Ordenação de lista'))\n",
    "print ('* - ' * 10)\n",
    "\n",
    "lista = [3 ,41 ,12 ,9 ,74 ,15]\n",
    "n = len(lista)\n",
    "for i in range (0, n):\n",
    "    pivo = lista [i]\n",
    "    i_pivo = i\n",
    "\n",
    "    for j in range (i+1, n):\n",
    "        if lista [j] < pivo :\n",
    "            pivo = lista [j]\n",
    "            i_pivo = j\n",
    "    lista [i_pivo] = lista [i]\n",
    "    lista [i] = pivo\n",
    "print ('A lista ordenada fica {}. ' . format (lista))"
   ]
  },
  {
   "cell_type": "code",
   "execution_count": 31,
   "metadata": {},
   "outputs": [
    {
     "name": "stdout",
     "output_type": "stream",
     "text": [
      "* - * - * - * - * - * - * - * - * - * - \n",
      "     Ordenação de um termo da lista      \n",
      "* - * - * - * - * - * - * - * - * - * - \n",
      "A lista com apenas um termo ordenado fica [3, 12, 9, 15, 74, 41].\n"
     ]
    }
   ],
   "source": [
    "print ( '* - ' * 10)\n",
    "print ( '{:^40} ' . format ('Ordenação de um termo da lista'))\n",
    "print ( '* - ' * 10)\n",
    "\n",
    "lista = [3 ,41 ,12 ,9 ,74 ,15]\n",
    "n = len(lista)\n",
    "p = n - 1\n",
    "low = 0\n",
    "high = p\n",
    "pivo = lista [high]\n",
    "i = low - 1\n",
    "\n",
    "for j in range (low , high):\n",
    "    if lista [j] <= pivo :\n",
    "        i += 1\n",
    "        aux = lista [i]\n",
    "        lista [i] = lista [j]\n",
    "        lista [j] = aux\n",
    "aux = lista [i+1]\n",
    "lista [i+1] = pivo\n",
    "lista [ high ] = aux\n",
    "print('A lista com apenas um termo ordenado fica {}.' .format(lista))"
   ]
  },
  {
   "cell_type": "code",
   "execution_count": 32,
   "metadata": {},
   "outputs": [
    {
     "name": "stdout",
     "output_type": "stream",
     "text": [
      "* - * - * - * - * - * - * - * - * - * - \n",
      "         Ordenac ~ao quick sort          \n",
      "* - * - * - * - * - * - * - * - * - * - \n",
      "A lista ordenada fica [3, 9, 12, 15, 41, 74]. \n"
     ]
    }
   ],
   "source": [
    "print ( '* - ' * 10)\n",
    "print ( '{:^40} ' . format (' Ordenac ~ao quick sort '))\n",
    "print ( '* - ' * 10)\n",
    "\n",
    "lista = [3 ,41 ,12 ,9 ,74 ,15]\n",
    "n = len( lista )\n",
    "p = n - 1\n",
    "cont = n -1\n",
    "lista_cont = [0] * n\n",
    "\n",
    "for i in range (1,n):\n",
    "    lista_cont [i] = i\n",
    "for l in range (0,n):\n",
    "    k = 0\n",
    "    for i in range (1, cont +1):\n",
    "        if ( lista_cont [i] - lista_cont [i -1]) > 1 :\n",
    "            k = i\n",
    "    low = lista_cont [k]\n",
    "    high = lista_cont [ -1]\n",
    "    pivo = lista [ high ]\n",
    "    i = low - 1\n",
    "    if high > low :\n",
    "        for j in range (low , high ):\n",
    "            if lista [j] <= pivo :\n",
    "                i += 1\n",
    "                aux = lista [i]\n",
    "                lista [i] = lista [j]\n",
    "                lista [j] = aux\n",
    "    aux = lista [i+1]\n",
    "    lista [i+1] = pivo\n",
    "    lista [ high ] = aux\n",
    "    lista_cont . remove (i+1)\n",
    "    cont -= 1\n",
    "print ('A lista ordenada fica {}. ' . format (lista))"
   ]
  },
  {
   "cell_type": "markdown",
   "metadata": {},
   "source": [
    "### 6.1.5 Transposta de uma matriz"
   ]
  },
  {
   "cell_type": "markdown",
   "metadata": {},
   "source": [
    "Dada a matriz $A_{mxn} = (a_{ij}$ (m linhas e n colunas), a transposta $A_{nxm}^{T} = a_{ji}^{'}$ é obtida transportando ordenadamente os elementos das linhas de $A$ para as colunas de $A^{T}$."
   ]
  },
  {
   "cell_type": "code",
   "execution_count": 33,
   "metadata": {},
   "outputs": [
    {
     "name": "stdout",
     "output_type": "stream",
     "text": [
      "* - * - * - * - * - * - * - * - * - * - \n",
      "        Transposta de uma matriz         \n",
      "* - * - * - * - * - * - * - * - * - * - \n",
      "\n",
      " Matriz original\n",
      "[1, 2, 3]\n",
      "[4, 5, 6]\n",
      "[7, 8, 9]\n",
      "[10, 11, 12]\n",
      "\n",
      " \n",
      " Matriz transposta\n",
      "[1, 4, 7, 10]\n",
      "[2, 5, 8, 11]\n",
      "[3, 6, 9, 12]\n"
     ]
    }
   ],
   "source": [
    "# usando append:\n",
    "\n",
    "print ( '* - ' * 10)\n",
    "print ( '{:^40} ' . format ('Transposta de uma matriz'))\n",
    "print ( '* - ' * 10)\n",
    "\n",
    "A = [[1 ,2 ,3] ,\n",
    "     [4 ,5 ,6] ,\n",
    "     [7 ,8 ,9] ,\n",
    "     [10 ,11 ,12]]\n",
    "\n",
    "n = len(A)\n",
    "m = len(A [0])\n",
    "At = []\n",
    "for j in range (0, m):\n",
    "    linha = []\n",
    "    for i in range (0, n):\n",
    "        linha.append (A[i][j])\n",
    "    At. append (linha)\n",
    "print ('\\n Matriz original')\n",
    "for i in range (0, n):\n",
    "    print (A[i])\n",
    "print ('\\n \\n Matriz transposta')\n",
    "for j in range (0,m):\n",
    "    print (At[j])"
   ]
  },
  {
   "cell_type": "code",
   "execution_count": 34,
   "metadata": {},
   "outputs": [
    {
     "name": "stdout",
     "output_type": "stream",
     "text": [
      "* - * - * - * - * - * - * - * - * - * - \n",
      "        Transposta de uma matriz         \n",
      "* - * - * - * - * - * - * - * - * - * - \n",
      "\n",
      " Matriz original \n",
      "[1, 2, 3]\n",
      "[4, 5, 6]\n",
      "[7, 8, 9]\n",
      "[10, 11, 12]\n",
      "\n",
      " \n",
      " Matriz transposta \n",
      "[1, 4, 7, 10]\n",
      "[2, 5, 8, 11]\n",
      "[3, 6, 9, 12]\n"
     ]
    }
   ],
   "source": [
    "# usando compressão de listas:\n",
    "\n",
    "print ( '* - ' * 10)\n",
    "print ( '{:^40} ' . format ('Transposta de uma matriz'))\n",
    "print ( '* - ' * 10)\n",
    "\n",
    "A = [[1 ,2 ,3] ,\n",
    "     [4 ,5 ,6] ,\n",
    "     [7 ,8 ,9] ,\n",
    "     [10 ,11 ,12]]\n",
    "n = len(A)\n",
    "m = len(A [0])\n",
    "linha = [0] *n\n",
    "At = [linha ]*m\n",
    "At = [[A[j][i] for j in range (0,n)] for i in range (0,m)]\n",
    "print ('\\n Matriz original ')\n",
    "for i in range (0,n):\n",
    "    print (A[i])\n",
    "print ('\\n \\n Matriz transposta ')\n",
    "for j in range (0,m):\n",
    "    print (At[j])"
   ]
  },
  {
   "cell_type": "code",
   "execution_count": 35,
   "metadata": {},
   "outputs": [
    {
     "name": "stdout",
     "output_type": "stream",
     "text": [
      "* - * - * - * - * - * - * - * - * - * - \n",
      "        Transposta de uma matriz         \n",
      "* - * - * - * - * - * - * - * - * - * - \n",
      "\n",
      " Matriz original\n",
      "[1, 2, 3]\n",
      "[4, 5, 6]\n",
      "[7, 8, 9]\n",
      "[10, 11, 12]\n",
      "\n",
      " \n",
      " Matriz transposta\n",
      "[1, 4, 7, 10]\n",
      "[2, 5, 8, 11]\n",
      "[3, 6, 9, 12]\n"
     ]
    }
   ],
   "source": [
    "# usando a função copy:\n",
    "\n",
    "print ( '* - ' * 10)\n",
    "print ( '{:^40} ' . format ('Transposta de uma matriz'))\n",
    "print ( '* - ' * 10)\n",
    "\n",
    "A = [[1 ,2 ,3] ,\n",
    "     [4 ,5 ,6] ,\n",
    "     [7 ,8 ,9] ,\n",
    "     [10 ,11 ,12]]\n",
    "n = len(A)\n",
    "m = len(A [0])\n",
    "linha = list ()\n",
    "for j in range (0,n):\n",
    "    linha.append (0)\n",
    "At = []\n",
    "for i in range (0,m):\n",
    "    At. append (linha.copy())\n",
    "for i in range (0,m):\n",
    "    for j in range (0,n):\n",
    "        At[i][j] = A.copy ()[j][i]\n",
    "print ('\\n Matriz original')\n",
    "for i in range (0,n):\n",
    "    print (A[i])\n",
    "print ('\\n \\n Matriz transposta')\n",
    "for j in range (0,m):\n",
    "    print (At[j])"
   ]
  },
  {
   "cell_type": "markdown",
   "metadata": {},
   "source": [
    "### 6.1.6 Sistemas de equações lineares"
   ]
  },
  {
   "cell_type": "markdown",
   "metadata": {},
   "source": [
    "eliminação de Gauss"
   ]
  },
  {
   "cell_type": "code",
   "execution_count": 36,
   "metadata": {},
   "outputs": [
    {
     "name": "stdout",
     "output_type": "stream",
     "text": [
      "* - * - * - * - * - * - * - * - * - * - \n",
      "        Sistema de Eq. Lineares          \n",
      "* - * - * - * - * - * - * - * - * - * - \n",
      "[1.0, 2.0, 3.0, 4.0]\n"
     ]
    }
   ],
   "source": [
    "print ( '* - ' * 10)\n",
    "print ( '{:^40} ' . format ('Sistema de Eq. Lineares'))\n",
    "print ( '* - ' * 10)\n",
    "\n",
    "A = [[1 ,1 ,1 ,1] ,\n",
    "     [1 , -1 ,1 ,1] ,\n",
    "     [1 ,1 , -1 ,1] ,\n",
    "     [1 ,1 ,1 , -1]]\n",
    "\n",
    "b = [10 ,6 ,4 ,2]\n",
    "n = len(b)\n",
    "X = list ([0]* n)\n",
    "for k in range (0, n -1):\n",
    "    for i in range (k, n):\n",
    "        A[k][i] = A. copy ()[k][i]\n",
    "    b[k] = b. copy ()[k]\n",
    "    for i in range (k+1, n):\n",
    "        m = A. copy ()[i][k]/A. copy ()[k][k]\n",
    "        for j in range (k,n):\n",
    "            A[i][j] = A. copy ()[i][j] - m * A. copy ()[k][j]\n",
    "        b[i] = b. copy ()[i] - m * b. copy ()[k]\n",
    "    for i in range (n -1, -1,-1):\n",
    "        Soma = 0.0\n",
    "        for j in range (i+1,n):\n",
    "            Soma += A. copy ()[i][j] * X. copy ()[j]\n",
    "        X[i] = (b. copy ()[i] - Soma ) / A. copy ()[i][i]\n",
    "print (X)"
   ]
  },
  {
   "cell_type": "markdown",
   "metadata": {},
   "source": [
    "### 6.1.7 Problema de valor inicial"
   ]
  },
  {
   "cell_type": "markdown",
   "metadata": {},
   "source": [
    "- equação diferencial: $\\frac{dy}{dx} = f(x,y)$\n",
    "- condição inicial: $y(x_0) = y_0$\n",
    "\n",
    "- $x$ = variável independente\n",
    "- $y$ = variável dependente"
   ]
  },
  {
   "cell_type": "code",
   "execution_count": 42,
   "metadata": {},
   "outputs": [
    {
     "name": "stdout",
     "output_type": "stream",
     "text": [
      "* - * - * - * - * - * - * - * - * - * - \n",
      "              Euler - PVI                \n",
      "* - * - * - * - * - * - * - * - * - * - \n",
      "        x_i                 y(x_i)        \n",
      "     0.0000000            0.0000000      \n",
      "     0.6283185            0.6283185      \n",
      "     1.2566371            1.1366389      \n",
      "     1.8849556            1.3308000      \n",
      "     2.5132741            1.1366389      \n",
      "     3.1415927            0.6283185      \n",
      "     3.7699112            0.0000000      \n",
      "     4.3982297            -0.5083204     \n",
      "     5.0265482            -0.7024815     \n",
      "     5.6548668            -0.5083204     \n",
      "     6.2831853            0.0000000      \n"
     ]
    }
   ],
   "source": [
    "# Solução numérica de PVI usando o método de Euler\n",
    "\n",
    "from math import pi ,cos\n",
    "print ('* - ' * 10)\n",
    "print ('{:^40} ' . format ('Euler - PVI'))\n",
    "print ( '* - ' * 10)\n",
    "\n",
    "x0 = 0.0\n",
    "y0 = 0.0\n",
    "x_end = 2* pi\n",
    "n = 10\n",
    "h = (x_end -x0)/n\n",
    "x = list ([ x0 ])\n",
    "y = list ([ y0 ])\n",
    "\n",
    "for i in range (0,n):\n",
    "    x. append (h *(i+1))\n",
    "    y. append (y[i] + h * cos(x[i]))\n",
    "print('{:^20} {:^20} ' . format('x_i ', 'y(x_i)'))\n",
    "for i in range (0,n+1):\n",
    "    print('{:^20.7f} {:^20.7f}' .format(x[i], y[i]))"
   ]
  },
  {
   "cell_type": "markdown",
   "metadata": {},
   "source": [
    "## Exercícios para praticar - Capítulo 6"
   ]
  },
  {
   "cell_type": "markdown",
   "metadata": {},
   "source": [
    "1 - Ler um número e o incremento de cada laço, para escrever na tela números de 0 até o número informado."
   ]
  },
  {
   "cell_type": "code",
   "execution_count": null,
   "metadata": {},
   "outputs": [
    {
     "name": "stdout",
     "output_type": "stream",
     "text": [
      "0\n",
      "2\n",
      "4\n"
     ]
    }
   ],
   "source": []
  },
  {
   "cell_type": "code",
   "execution_count": null,
   "metadata": {},
   "outputs": [],
   "source": []
  },
  {
   "cell_type": "markdown",
   "metadata": {},
   "source": [
    "2 - Ler o número inicial, o número final e o incremento de um laço, para escrever esta lista de números na tela."
   ]
  },
  {
   "cell_type": "code",
   "execution_count": null,
   "metadata": {},
   "outputs": [],
   "source": []
  },
  {
   "cell_type": "markdown",
   "metadata": {},
   "source": [
    "3 - Faça uma contagem regressiva de 10 até zero, com um intervalo de 1 segundo entre eles.\n",
    "\n",
    "Dica:\n",
    "```python\n",
    "import time\n",
    "time.sleep(número de segundos)\n",
    "```"
   ]
  },
  {
   "cell_type": "code",
   "execution_count": null,
   "metadata": {},
   "outputs": [],
   "source": []
  },
  {
   "cell_type": "markdown",
   "metadata": {},
   "source": [
    "4 - Apresentar todos os números pares entre 1 e 50."
   ]
  },
  {
   "cell_type": "code",
   "execution_count": null,
   "metadata": {},
   "outputs": [],
   "source": []
  },
  {
   "cell_type": "markdown",
   "metadata": {},
   "source": [
    "5 - Apresentar a soma dos números entre 1 e 500 que são ímpares e múltiplos de 3."
   ]
  },
  {
   "cell_type": "code",
   "execution_count": null,
   "metadata": {},
   "outputs": [],
   "source": []
  },
  {
   "cell_type": "markdown",
   "metadata": {},
   "source": [
    "6 - Apresentar a tabuada de um número informado."
   ]
  },
  {
   "cell_type": "code",
   "execution_count": null,
   "metadata": {},
   "outputs": [],
   "source": []
  },
  {
   "cell_type": "markdown",
   "metadata": {},
   "source": [
    "7 - Ler seis números inteiros e mostrar a soma apenas daqueles que forem pares."
   ]
  },
  {
   "cell_type": "code",
   "execution_count": null,
   "metadata": {},
   "outputs": [],
   "source": []
  },
  {
   "cell_type": "markdown",
   "metadata": {},
   "source": [
    "8 - Ler um número inteiro e informar se ele é ou não um número primo."
   ]
  },
  {
   "cell_type": "code",
   "execution_count": null,
   "metadata": {},
   "outputs": [],
   "source": []
  },
  {
   "cell_type": "markdown",
   "metadata": {},
   "source": [
    "9 - Ler uma frase e informar se é um palíndromo.\n",
    "\n",
    "Ex.\n",
    "APOS A SOPA\n",
    "\n",
    "A SACADA DA CASA\n",
    "\n",
    "A TORRE DA DERROTA\n",
    "\n",
    "O LOBO AMA O BOLO"
   ]
  },
  {
   "cell_type": "code",
   "execution_count": null,
   "metadata": {},
   "outputs": [],
   "source": []
  },
  {
   "cell_type": "markdown",
   "metadata": {},
   "source": [
    "10 - Pesquise e implemente outros algoritmos de ordenação numérica."
   ]
  },
  {
   "cell_type": "code",
   "execution_count": null,
   "metadata": {},
   "outputs": [],
   "source": []
  },
  {
   "cell_type": "code",
   "execution_count": null,
   "metadata": {},
   "outputs": [],
   "source": []
  },
  {
   "cell_type": "markdown",
   "metadata": {},
   "source": [
    "# 7. Estruturas Iterativas Indefinidas"
   ]
  },
  {
   "cell_type": "code",
   "execution_count": null,
   "metadata": {},
   "outputs": [],
   "source": []
  },
  {
   "cell_type": "markdown",
   "metadata": {},
   "source": [
    "# 8. Leitura e Gravação de Dados em Arquivos"
   ]
  },
  {
   "cell_type": "markdown",
   "metadata": {},
   "source": []
  }
 ],
 "metadata": {
  "kernelspec": {
   "display_name": "base",
   "language": "python",
   "name": "python3"
  },
  "language_info": {
   "codemirror_mode": {
    "name": "ipython",
    "version": 3
   },
   "file_extension": ".py",
   "mimetype": "text/x-python",
   "name": "python",
   "nbconvert_exporter": "python",
   "pygments_lexer": "ipython3",
   "version": "3.11.8"
  }
 },
 "nbformat": 4,
 "nbformat_minor": 2
}
