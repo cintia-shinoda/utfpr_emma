{
 "cells": [
  {
   "cell_type": "markdown",
   "metadata": {},
   "source": [
    "# Avaliação Semanal 2 (Aplicação Prática AP2)"
   ]
  },
  {
   "cell_type": "markdown",
   "metadata": {},
   "source": [
    "Escolher uma aplicação / problema prático e implementar em planilha eletrônica ou outro\n",
    "software por um dos métodos a seguir: Regra dos Trapézios Repetida;\n",
    "Regra 1/3 de Simpson ou Regra 1/3 de Simpson Repetida.\n",
    "\n",
    "Fazer o envio via formulário do Google Forms, descrevendo o problema abordado e\n",
    "anexando a planilha eletrônica / algoritmo construída(o)."
   ]
  },
  {
   "cell_type": "code",
   "execution_count": null,
   "metadata": {},
   "outputs": [],
   "source": []
  }
 ],
 "metadata": {
  "kernelspec": {
   "display_name": "base",
   "language": "python",
   "name": "python3"
  },
  "language_info": {
   "name": "python",
   "version": "3.11.8"
  }
 },
 "nbformat": 4,
 "nbformat_minor": 2
}
