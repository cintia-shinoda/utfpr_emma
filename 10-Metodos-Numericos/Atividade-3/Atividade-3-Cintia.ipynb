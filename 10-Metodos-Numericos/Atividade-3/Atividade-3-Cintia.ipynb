{
 "cells": [
  {
   "cell_type": "markdown",
   "metadata": {},
   "source": [
    "# Avaliação Semanal 3 (Aplicação Prática AP3)"
   ]
  },
  {
   "cell_type": "markdown",
   "metadata": {},
   "source": [
    "- Escolher uma aplicação / problema prático e implementar em planilha eletrônica /  software pelo Método de Gauss-Seidel.\n",
    "\n",
    "\n",
    "- Fazer o envio via formulário do Google Forms, descrevendo o problema abordado e\n",
    "anexando a planilha eletrônica / algoritmo construída(o)."
   ]
  },
  {
   "cell_type": "code",
   "execution_count": null,
   "metadata": {},
   "outputs": [],
   "source": []
  }
 ],
 "metadata": {
  "kernelspec": {
   "display_name": "base",
   "language": "python",
   "name": "python3"
  },
  "language_info": {
   "name": "python",
   "version": "3.11.8"
  }
 },
 "nbformat": 4,
 "nbformat_minor": 2
}
