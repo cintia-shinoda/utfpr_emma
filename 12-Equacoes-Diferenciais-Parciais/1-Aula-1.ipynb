{
 "cells": [
  {
   "cell_type": "markdown",
   "metadata": {},
   "source": [
    "# 1. Discretização e Cálculo Aproximado de Derivadas"
   ]
  },
  {
   "cell_type": "markdown",
   "metadata": {},
   "source": [
    "[Vídeo da aula assíncrona](https://drive.google.com/file/d/1hW0OsZhZOmZ8pXHkY9CnYyIB0sMTiTVA/view?pli=1)\n",
    "\n",
    "[Vídeo da aula síncrona](https://drive.google.com/file/d/10jpD_2VmSJ6L5EfAjB_X_d6BgP2n_qPR/view?usp=sharing)"
   ]
  },
  {
   "cell_type": "markdown",
   "metadata": {},
   "source": [
    "## 1.1 Discretização"
   ]
  },
  {
   "cell_type": "markdown",
   "metadata": {},
   "source": [
    "\n",
    "- solução em um número (discreto) de pontos\n",
    "- aproximações de derivadas a partir da série de Taylor"
   ]
  },
  {
   "cell_type": "markdown",
   "metadata": {},
   "source": []
  },
  {
   "cell_type": "markdown",
   "metadata": {},
   "source": [
    "## 1.2 Métodos Numéricos para PVI"
   ]
  },
  {
   "cell_type": "markdown",
   "metadata": {},
   "source": []
  }
 ],
 "metadata": {
  "language_info": {
   "name": "python"
  }
 },
 "nbformat": 4,
 "nbformat_minor": 2
}
