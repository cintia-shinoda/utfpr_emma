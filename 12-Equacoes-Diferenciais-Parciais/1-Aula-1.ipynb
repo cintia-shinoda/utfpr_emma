{
 "cells": [
  {
   "cell_type": "markdown",
   "metadata": {},
   "source": [
    "# 1. Discretização e Cálculo Aproximado de Derivadas"
   ]
  },
  {
   "cell_type": "markdown",
   "metadata": {},
   "source": [
    "[Vídeo da aula assíncrona](https://drive.google.com/file/d/1hW0OsZhZOmZ8pXHkY9CnYyIB0sMTiTVA/view?pli=1)\n",
    "\n",
    "[Vídeo da aula síncrona](https://drive.google.com/file/d/10jpD_2VmSJ6L5EfAjB_X_d6BgP2n_qPR/view?usp=sharing)"
   ]
  },
  {
   "cell_type": "markdown",
   "metadata": {},
   "source": [
    "## 1.1 Discretização"
   ]
  },
  {
   "cell_type": "markdown",
   "metadata": {},
   "source": [
    "\n",
    "- solução em um número (discreto) de pontos\n",
    "- aproximações de derivadas a partir da série de Taylor\n",
    "- pode ocorrer em mais de uma dimensão, inclusive o tempo"
   ]
  },
  {
   "cell_type": "markdown",
   "metadata": {},
   "source": [
    "### Malha de Discretização Unidimensional\n",
    "- o passo de discretização pode ou nãos ser constante\n",
    "- $\\Delta x = \\frac{L}{n}$"
   ]
  },
  {
   "cell_type": "markdown",
   "metadata": {},
   "source": [
    "### Aproximação por Série de Taylor\n",
    "- a aproximação por Série de Taylor próximo a $x_0$ pode ser escrita como:\n",
    "  \n",
    "$$f(x) = \\sum_{k=0}^{\\infty} \\frac{f^{(k) (x_0)}}{k!} (x - x_0)^k$$\n",
    "  \n",
    "ou $$f(x + h) = f(x) + f'(x) h + \\frac{f''(x)}{2} h^2 + \\frac{f'''(x)}{6}h^3 + ...$$\n",
    "\n",
    "com um erro de truncamento de ordem $O(h^n)$, tem-se:\n",
    "$$f(x + h) = f(x) + f'(x) h + \\frac{f''(x)}{2} h^2 + \\frac{f'''(x)}{6}h^3 + O(h^4)$$"
   ]
  },
  {
   "cell_type": "markdown",
   "metadata": {},
   "source": [
    "### Derivada de Primeira Ordem\n",
    "\n",
    "Diferença avançada:\n",
    "Truncando a aproximação por Série de Taylor para $(x + h)$ com um erro de truncamento $O(h^2)$ tem-se:\n",
    "$$f(x+h) = f(x) + f'(x) h + O(h^2)$$ "
   ]
  },
  {
   "cell_type": "markdown",
   "metadata": {},
   "source": [
    "#### Diferença Avançada"
   ]
  },
  {
   "cell_type": "markdown",
   "metadata": {},
   "source": [
    "#### Diferença Atrasada"
   ]
  },
  {
   "cell_type": "markdown",
   "metadata": {},
   "source": [
    "#### Diferença Central"
   ]
  },
  {
   "cell_type": "markdown",
   "metadata": {},
   "source": [
    "### Derivada de Segunda Ordem"
   ]
  },
  {
   "cell_type": "markdown",
   "metadata": {},
   "source": [
    "# Questionário 1"
   ]
  },
  {
   "cell_type": "markdown",
   "metadata": {},
   "source": [
    "## Questão 1: \n",
    "Qual série é utilizada na aproximação das derivadas quando se faz a discretização do domínio de solução?\n",
    "\n",
    "Resposta: Série de Taylor"
   ]
  },
  {
   "cell_type": "markdown",
   "metadata": {},
   "source": [
    "## Questão 2:\n",
    "\n"
   ]
  },
  {
   "cell_type": "markdown",
   "metadata": {},
   "source": [
    "----------------------------------------------------------"
   ]
  },
  {
   "cell_type": "markdown",
   "metadata": {},
   "source": [
    "## 1.2 Métodos Numéricos para PVI"
   ]
  },
  {
   "cell_type": "markdown",
   "metadata": {},
   "source": [
    "- PVI = Problema de Valor Inicial"
   ]
  },
  {
   "cell_type": "markdown",
   "metadata": {},
   "source": [
    "$$\\frac{dy(x)}{dx} = f(x, y)$$\n",
    "\n",
    "$$y(x_0) = y_0$$"
   ]
  },
  {
   "cell_type": "markdown",
   "metadata": {},
   "source": [
    "### Métodos de Passo Simples\n"
   ]
  },
  {
   "cell_type": "markdown",
   "metadata": {},
   "source": [
    "#### Método de Euler"
   ]
  },
  {
   "cell_type": "markdown",
   "metadata": {},
   "source": []
  },
  {
   "cell_type": "markdown",
   "metadata": {},
   "source": [
    "#### Métodos de Runge-Kutta"
   ]
  },
  {
   "cell_type": "markdown",
   "metadata": {},
   "source": []
  },
  {
   "cell_type": "markdown",
   "metadata": {},
   "source": [
    "##### Método de Runge-Kutta-Fehlberg 45 (RKF45)"
   ]
  },
  {
   "cell_type": "markdown",
   "metadata": {},
   "source": []
  },
  {
   "cell_type": "markdown",
   "metadata": {},
   "source": [
    "### Métodos de Passos Múltiplos"
   ]
  },
  {
   "cell_type": "markdown",
   "metadata": {},
   "source": []
  },
  {
   "cell_type": "markdown",
   "metadata": {},
   "source": [
    "----------------------------------"
   ]
  },
  {
   "cell_type": "markdown",
   "metadata": {},
   "source": [
    "# Questionário 2"
   ]
  },
  {
   "cell_type": "markdown",
   "metadata": {},
   "source": []
  }
 ],
 "metadata": {
  "kernelspec": {
   "display_name": "base",
   "language": "python",
   "name": "python3"
  },
  "language_info": {
   "name": "python",
   "version": "3.11.8"
  }
 },
 "nbformat": 4,
 "nbformat_minor": 2
}
