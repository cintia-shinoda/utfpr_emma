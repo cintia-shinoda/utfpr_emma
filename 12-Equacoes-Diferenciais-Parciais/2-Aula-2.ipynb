{
 "cells": [
  {
   "cell_type": "markdown",
   "metadata": {},
   "source": [
    "# 2. Diferenças Finitas"
   ]
  },
  {
   "cell_type": "markdown",
   "metadata": {},
   "source": [
    "[Gravação da 2ª aula síncrona](https://drive.google.com/file/d/1dMdBjeD7Kk3OKxbp3I7uRTN6va8QsoGz/view?usp=sharing)"
   ]
  },
  {
   "cell_type": "markdown",
   "metadata": {},
   "source": []
  },
  {
   "cell_type": "code",
   "execution_count": 1,
   "metadata": {},
   "outputs": [],
   "source": [
    "import numpy as np\n",
    "import matplotlib.pyplot as plt"
   ]
  },
  {
   "cell_type": "code",
   "execution_count": null,
   "metadata": {},
   "outputs": [
    {
     "name": "stdout",
     "output_type": "stream",
     "text": [
      "[0.  0.2 0.4 0.6 0.8 1. ]\n",
      "[1. 0. 0. 0. 0. 0.]\n"
     ]
    }
   ],
   "source": [
    "n = 5   # n+1 pontos de discretização\n",
    "Delta_x = 1. / n\n",
    "\n",
    "A = np.zeros((n+1, n+1))\n",
    "B = np.zeros(n+1)\n",
    "x = np.linspace(0, 1, n+1)\n",
    "\n",
    "B[0] = 1\n",
    "\n",
    "for i in range(1, n):\n",
    "    A[i, i-1] = 1. / Delta_x**2 + 1. / Delta_x\n",
    "\n",
    "A[0,0] = 1.\n",
    "A[n, n-1] = -1.\n",
    "A[n, n] = 1."
   ]
  },
  {
   "cell_type": "code",
   "execution_count": null,
   "metadata": {},
   "outputs": [],
   "source": []
  }
 ],
 "metadata": {
  "kernelspec": {
   "display_name": "base",
   "language": "python",
   "name": "python3"
  },
  "language_info": {
   "codemirror_mode": {
    "name": "ipython",
    "version": 3
   },
   "file_extension": ".py",
   "mimetype": "text/x-python",
   "name": "python",
   "nbconvert_exporter": "python",
   "pygments_lexer": "ipython3",
   "version": "3.11.8"
  }
 },
 "nbformat": 4,
 "nbformat_minor": 2
}
