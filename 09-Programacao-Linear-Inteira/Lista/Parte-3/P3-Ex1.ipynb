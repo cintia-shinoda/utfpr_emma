{
 "cells": [
  {
   "cell_type": "code",
   "execution_count": 1,
   "metadata": {},
   "outputs": [
    {
     "name": "stdout",
     "output_type": "stream",
     "text": [
      "Welcome to the CBC MILP Solver \n",
      "Version: 2.10.3 \n",
      "Build Date: Dec 15 2019 \n",
      "\n",
      "command line - /opt/anaconda3/lib/python3.11/site-packages/pulp/solverdir/cbc/osx/64/cbc /var/folders/8r/nmk1vk6x5j99x02zw4kss3pm0000gn/T/491a9f319f464437aaf0bcf88306ed48-pulp.mps -timeMode elapsed -branch -printingOptions all -solution /var/folders/8r/nmk1vk6x5j99x02zw4kss3pm0000gn/T/491a9f319f464437aaf0bcf88306ed48-pulp.sol (default strategy 1)\n",
      "At line 2 NAME          MODEL\n",
      "At line 3 ROWS\n",
      "At line 12 COLUMNS\n",
      "At line 49 RHS\n",
      "At line 57 BOUNDS\n",
      "At line 58 ENDATA\n",
      "Problem MODEL has 7 rows, 12 columns and 24 elements\n",
      "Coin0008I MODEL read with 0 errors\n",
      "Option for timeMode changed from cpu to elapsed\n",
      "Presolve 7 (0) rows, 12 (0) columns and 24 (0) elements\n",
      "0  Obj 0 Primal inf 615 (4)\n",
      "6  Obj 3625\n",
      "Optimal - objective value 3625\n",
      "Optimal objective 3625 - 6 iterations time 0.002\n",
      "Option for printingOptions changed from normal to all\n",
      "Total time (CPU seconds):       0.00   (Wallclock seconds):       0.00\n",
      "\n",
      "Status: 1\n",
      "Custo Total: 3625.0\n",
      "Fábrica 1 para Mercado 1: 150.0 toneladas\n",
      "Fábrica 1 para Mercado 2: 70.0 toneladas\n",
      "Fábrica 1 para Mercado 3: 0.0 toneladas\n",
      "Fábrica 1 para Mercado 4: 0.0 toneladas\n",
      "Fábrica 2 para Mercado 1: 0.0 toneladas\n",
      "Fábrica 2 para Mercado 2: 75.0 toneladas\n",
      "Fábrica 2 para Mercado 3: 0.0 toneladas\n",
      "Fábrica 2 para Mercado 4: 90.0 toneladas\n",
      "Fábrica 3 para Mercado 1: 0.0 toneladas\n",
      "Fábrica 3 para Mercado 2: 20.0 toneladas\n",
      "Fábrica 3 para Mercado 3: 210.0 toneladas\n",
      "Fábrica 3 para Mercado 4: 0.0 toneladas\n"
     ]
    }
   ],
   "source": [
    "from pulp import LpProblem, LpMinimize, LpVariable, lpSum\n",
    "\n",
    "# dados\n",
    "custos = [\n",
    "[10, 7, 5, 6],\n",
    "[12, 7, 6, 4],\n",
    "[13, 6, 3, 5]]\n",
    "\n",
    "ofertas = [220, 180, 230]\n",
    "demandas = [150, 165, 210, 90]\n",
    "\n",
    "fabrica = range(len(ofertas))\n",
    "mercado = range(len(demandas))\n",
    "\n",
    "\n",
    "    ####### Modelo #######\n",
    "modelo = LpProblem(\"Exercicio-1\", LpMinimize)\n",
    "\n",
    "# Variáveis de Decisão:\n",
    "x = [[LpVariable(f\"x_{i}_{j}\", lowBound=0) for j in mercado] for i in fabrica]\n",
    "\n",
    "# Função Objetivo:\n",
    "modelo += lpSum(custos[i][j] * x[i][j] for i in fabrica for j in mercado)\n",
    "\n",
    "# Restrição Oferta:\n",
    "for i in fabrica:\n",
    "    modelo += lpSum(x[i][j] for j in mercado) <= ofertas[i], f\"Oferta_Fabrica_{i}\"\n",
    "\n",
    "# Restrição Demanda:\n",
    "for j in mercado:\n",
    "    modelo += lpSum(x[i][j] for i in fabrica) == demandas[j], f\"Demanda_Mercado_{j}\"\n",
    "\n",
    "modelo.solve()\n",
    "\n",
    "# Exibe Resultados:\n",
    "print(\"Status:\", modelo.status)   # Status = 1: A solução é ótima\n",
    "print(\"Custo Total:\", modelo.objective.value())\n",
    "for i in fabrica:\n",
    "    for j in mercado:\n",
    "        print(f\"Fábrica {i+1} para Mercado {j+1}: {x[i][j].value()} toneladas\")\n",
    "\n",
    "        "
   ]
  }
 ],
 "metadata": {
  "kernelspec": {
   "display_name": "base",
   "language": "python",
   "name": "python3"
  },
  "language_info": {
   "codemirror_mode": {
    "name": "ipython",
    "version": 3
   },
   "file_extension": ".py",
   "mimetype": "text/x-python",
   "name": "python",
   "nbconvert_exporter": "python",
   "pygments_lexer": "ipython3",
   "version": "3.11.8"
  }
 },
 "nbformat": 4,
 "nbformat_minor": 2
}
